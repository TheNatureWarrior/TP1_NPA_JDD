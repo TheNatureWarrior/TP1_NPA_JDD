{
 "cells": [
  {
   "cell_type": "markdown",
   "id": "7afd2b6e",
   "metadata": {},
   "source": [
    "# Team Project 1\n",
    "## DS160-01\n",
    "### AUTHORS: Naat Ambrosino and Jardin Dantzler\n",
    "### VERSION: 1\n",
    "### SEMESTER: Spring 2022\n",
    "### SUMMARY:\n",
    "#### We developed this notebook to...."
   ]
  },
  {
   "cell_type": "code",
   "execution_count": 1343,
   "id": "92cf6379",
   "metadata": {},
   "outputs": [],
   "source": [
    "import pandas as pd\n",
    "import numpy as np\n",
    "import scipy.stats as stats\n",
    "import pylab \n",
    "import matplotlib.pyplot as plt\n",
    "%matplotlib inline\n",
    "import seaborn as sns"
   ]
  },
  {
   "cell_type": "code",
   "execution_count": 1344,
   "id": "9c930938",
   "metadata": {},
   "outputs": [],
   "source": [
    "df=pd.read_csv('Canada_Hosp1_COVID_Data_At_Admission.csv')"
   ]
  },
  {
   "cell_type": "code",
   "execution_count": 1345,
   "id": "f9f38b66",
   "metadata": {},
   "outputs": [
    {
     "data": {
      "text/html": [
       "<div>\n",
       "<style scoped>\n",
       "    .dataframe tbody tr th:only-of-type {\n",
       "        vertical-align: middle;\n",
       "    }\n",
       "\n",
       "    .dataframe tbody tr th {\n",
       "        vertical-align: top;\n",
       "    }\n",
       "\n",
       "    .dataframe thead th {\n",
       "        text-align: right;\n",
       "    }\n",
       "</style>\n",
       "<table border=\"1\" class=\"dataframe\">\n",
       "  <thead>\n",
       "    <tr style=\"text-align: right;\">\n",
       "      <th></th>\n",
       "      <th>id</th>\n",
       "      <th>reason_for_admission</th>\n",
       "      <th>age</th>\n",
       "      <th>sex</th>\n",
       "      <th>ethnicity</th>\n",
       "      <th>ethnicity_other</th>\n",
       "      <th>height</th>\n",
       "      <th>weight</th>\n",
       "      <th>comorbidities</th>\n",
       "      <th>comorbidities_other</th>\n",
       "      <th>...</th>\n",
       "      <th>pao2</th>\n",
       "      <th>pao2_fio2</th>\n",
       "      <th>ph</th>\n",
       "      <th>high_senstivity_cardiac_troponin</th>\n",
       "      <th>esr</th>\n",
       "      <th>inr</th>\n",
       "      <th>ferritin</th>\n",
       "      <th>d_dimer</th>\n",
       "      <th>crp</th>\n",
       "      <th>hs_crp</th>\n",
       "    </tr>\n",
       "  </thead>\n",
       "  <tbody>\n",
       "    <tr>\n",
       "      <th>0</th>\n",
       "      <td>1</td>\n",
       "      <td>Fever [R50.9]</td>\n",
       "      <td>74</td>\n",
       "      <td>Male</td>\n",
       "      <td>\"[]\"</td>\n",
       "      <td>NaN</td>\n",
       "      <td>NaN</td>\n",
       "      <td>NaN</td>\n",
       "      <td>\"[\\\"Hypertension\\\",\\\"Diabetes\\\",\\\"Other\\\"]\"</td>\n",
       "      <td>GERD (gastroesophageal reflux disease), Dement...</td>\n",
       "      <td>...</td>\n",
       "      <td>NaN</td>\n",
       "      <td>NaN</td>\n",
       "      <td>NaN</td>\n",
       "      <td>NaN</td>\n",
       "      <td>NaN</td>\n",
       "      <td>1.1</td>\n",
       "      <td>NaN</td>\n",
       "      <td>NaN</td>\n",
       "      <td>223.0</td>\n",
       "      <td>NaN</td>\n",
       "    </tr>\n",
       "    <tr>\n",
       "      <th>1</th>\n",
       "      <td>2</td>\n",
       "      <td>Pneumonia [J18.9]</td>\n",
       "      <td>61</td>\n",
       "      <td>Female</td>\n",
       "      <td>\"[]\"</td>\n",
       "      <td>NaN</td>\n",
       "      <td>154.9</td>\n",
       "      <td>73.6</td>\n",
       "      <td>\"[\\\"Hypertension\\\",\\\"Other\\\"]\"</td>\n",
       "      <td>Closed fracture of fifth metatarsal bone, Dive...</td>\n",
       "      <td>...</td>\n",
       "      <td>NaN</td>\n",
       "      <td>NaN</td>\n",
       "      <td>NaN</td>\n",
       "      <td>NaN</td>\n",
       "      <td>NaN</td>\n",
       "      <td>1.0</td>\n",
       "      <td>NaN</td>\n",
       "      <td>2354</td>\n",
       "      <td>95.6</td>\n",
       "      <td>NaN</td>\n",
       "    </tr>\n",
       "    <tr>\n",
       "      <th>2</th>\n",
       "      <td>3</td>\n",
       "      <td>Pneumonia [J18.9]</td>\n",
       "      <td>58</td>\n",
       "      <td>Female</td>\n",
       "      <td>\"[]\"</td>\n",
       "      <td>NaN</td>\n",
       "      <td>NaN</td>\n",
       "      <td>NaN</td>\n",
       "      <td>\"[\\\"Hypertension\\\"]\"</td>\n",
       "      <td>NaN</td>\n",
       "      <td>...</td>\n",
       "      <td>NaN</td>\n",
       "      <td>NaN</td>\n",
       "      <td>NaN</td>\n",
       "      <td>NaN</td>\n",
       "      <td>NaN</td>\n",
       "      <td>NaN</td>\n",
       "      <td>NaN</td>\n",
       "      <td>NaN</td>\n",
       "      <td>NaN</td>\n",
       "      <td>NaN</td>\n",
       "    </tr>\n",
       "    <tr>\n",
       "      <th>3</th>\n",
       "      <td>4</td>\n",
       "      <td>Suspected COVID-19 virus infection [U07.2]</td>\n",
       "      <td>94</td>\n",
       "      <td>Male</td>\n",
       "      <td>\"[]\"</td>\n",
       "      <td>NaN</td>\n",
       "      <td>182.8</td>\n",
       "      <td>66.2</td>\n",
       "      <td>\"[\\\"Hypertension\\\",\\\"Other\\\"]\"</td>\n",
       "      <td>Parkinson's Disease, Back pain, Benign Prostat...</td>\n",
       "      <td>...</td>\n",
       "      <td>NaN</td>\n",
       "      <td>NaN</td>\n",
       "      <td>NaN</td>\n",
       "      <td>NaN</td>\n",
       "      <td>NaN</td>\n",
       "      <td>NaN</td>\n",
       "      <td>NaN</td>\n",
       "      <td>NaN</td>\n",
       "      <td>NaN</td>\n",
       "      <td>NaN</td>\n",
       "    </tr>\n",
       "    <tr>\n",
       "      <th>4</th>\n",
       "      <td>5</td>\n",
       "      <td>Febrile respiratory illness [J98.9, R50.9]</td>\n",
       "      <td>91</td>\n",
       "      <td>Male</td>\n",
       "      <td>\"[]\"</td>\n",
       "      <td>NaN</td>\n",
       "      <td>NaN</td>\n",
       "      <td>NaN</td>\n",
       "      <td>\"[\\\"Chronic cardiac disease (not hypertension)...</td>\n",
       "      <td>TAVI, Atrial fibrillation, Gastric Reflux, Pac...</td>\n",
       "      <td>...</td>\n",
       "      <td>NaN</td>\n",
       "      <td>NaN</td>\n",
       "      <td>NaN</td>\n",
       "      <td>NaN</td>\n",
       "      <td>NaN</td>\n",
       "      <td>NaN</td>\n",
       "      <td>NaN</td>\n",
       "      <td>NaN</td>\n",
       "      <td>NaN</td>\n",
       "      <td>NaN</td>\n",
       "    </tr>\n",
       "    <tr>\n",
       "      <th>...</th>\n",
       "      <td>...</td>\n",
       "      <td>...</td>\n",
       "      <td>...</td>\n",
       "      <td>...</td>\n",
       "      <td>...</td>\n",
       "      <td>...</td>\n",
       "      <td>...</td>\n",
       "      <td>...</td>\n",
       "      <td>...</td>\n",
       "      <td>...</td>\n",
       "      <td>...</td>\n",
       "      <td>...</td>\n",
       "      <td>...</td>\n",
       "      <td>...</td>\n",
       "      <td>...</td>\n",
       "      <td>...</td>\n",
       "      <td>...</td>\n",
       "      <td>...</td>\n",
       "      <td>...</td>\n",
       "      <td>...</td>\n",
       "      <td>...</td>\n",
       "    </tr>\n",
       "    <tr>\n",
       "      <th>503</th>\n",
       "      <td>516</td>\n",
       "      <td>Shortness of breath [R06.0]</td>\n",
       "      <td>74</td>\n",
       "      <td>Female</td>\n",
       "      <td>\"[]\"</td>\n",
       "      <td>NaN</td>\n",
       "      <td>NaN</td>\n",
       "      <td>55.0</td>\n",
       "      <td>\"[\\\"Other\\\"]\"</td>\n",
       "      <td>Arthritis, High cholesterol, Hypothyroidism, V...</td>\n",
       "      <td>...</td>\n",
       "      <td>NaN</td>\n",
       "      <td>NaN</td>\n",
       "      <td>NaN</td>\n",
       "      <td>NaN</td>\n",
       "      <td>NaN</td>\n",
       "      <td>1.1</td>\n",
       "      <td>NaN</td>\n",
       "      <td>NaN</td>\n",
       "      <td>NaN</td>\n",
       "      <td>NaN</td>\n",
       "    </tr>\n",
       "    <tr>\n",
       "      <th>504</th>\n",
       "      <td>517</td>\n",
       "      <td>COVID-19 [U07.1]</td>\n",
       "      <td>81</td>\n",
       "      <td>Male</td>\n",
       "      <td>\"[]\"</td>\n",
       "      <td>NaN</td>\n",
       "      <td>158.0</td>\n",
       "      <td>65.0</td>\n",
       "      <td>\"[\\\"Hypertension\\\",\\\"Chronic renal\\\",\\\"Diabete...</td>\n",
       "      <td>GERD (gastroesophageal reflux disease), High c...</td>\n",
       "      <td>...</td>\n",
       "      <td>76.0</td>\n",
       "      <td>1.5</td>\n",
       "      <td>7.44</td>\n",
       "      <td>NaN</td>\n",
       "      <td>NaN</td>\n",
       "      <td>NaN</td>\n",
       "      <td>NaN</td>\n",
       "      <td>&gt;4000</td>\n",
       "      <td>NaN</td>\n",
       "      <td>NaN</td>\n",
       "    </tr>\n",
       "    <tr>\n",
       "      <th>505</th>\n",
       "      <td>519</td>\n",
       "      <td>COVID-19 [U07.1]</td>\n",
       "      <td>74</td>\n",
       "      <td>Male</td>\n",
       "      <td>\"[]\"</td>\n",
       "      <td>NaN</td>\n",
       "      <td>NaN</td>\n",
       "      <td>81.7</td>\n",
       "      <td>\"[\\\"Hypertension\\\",\\\"Other\\\"]\"</td>\n",
       "      <td>Dermatitis, Hyponatremia, Irritable bowel synd...</td>\n",
       "      <td>...</td>\n",
       "      <td>NaN</td>\n",
       "      <td>NaN</td>\n",
       "      <td>NaN</td>\n",
       "      <td>NaN</td>\n",
       "      <td>NaN</td>\n",
       "      <td>1.5</td>\n",
       "      <td>NaN</td>\n",
       "      <td>NaN</td>\n",
       "      <td>NaN</td>\n",
       "      <td>NaN</td>\n",
       "    </tr>\n",
       "    <tr>\n",
       "      <th>506</th>\n",
       "      <td>521</td>\n",
       "      <td>COVID-19 [U07.1]</td>\n",
       "      <td>48</td>\n",
       "      <td>Female</td>\n",
       "      <td>\"[]\"</td>\n",
       "      <td>NaN</td>\n",
       "      <td>180.0</td>\n",
       "      <td>95.3</td>\n",
       "      <td>\"[]\"</td>\n",
       "      <td>NaN</td>\n",
       "      <td>...</td>\n",
       "      <td>NaN</td>\n",
       "      <td>NaN</td>\n",
       "      <td>NaN</td>\n",
       "      <td>NaN</td>\n",
       "      <td>NaN</td>\n",
       "      <td>1.0</td>\n",
       "      <td>NaN</td>\n",
       "      <td>428</td>\n",
       "      <td>NaN</td>\n",
       "      <td>NaN</td>\n",
       "    </tr>\n",
       "    <tr>\n",
       "      <th>507</th>\n",
       "      <td>522</td>\n",
       "      <td>COVID-19 [U07.1]</td>\n",
       "      <td>73</td>\n",
       "      <td>Male</td>\n",
       "      <td>\"[]\"</td>\n",
       "      <td>NaN</td>\n",
       "      <td>NaN</td>\n",
       "      <td>NaN</td>\n",
       "      <td>\"[]\"</td>\n",
       "      <td>NaN</td>\n",
       "      <td>...</td>\n",
       "      <td>NaN</td>\n",
       "      <td>NaN</td>\n",
       "      <td>NaN</td>\n",
       "      <td>NaN</td>\n",
       "      <td>NaN</td>\n",
       "      <td>1.1</td>\n",
       "      <td>NaN</td>\n",
       "      <td>1584</td>\n",
       "      <td>NaN</td>\n",
       "      <td>NaN</td>\n",
       "    </tr>\n",
       "  </tbody>\n",
       "</table>\n",
       "<p>508 rows × 55 columns</p>\n",
       "</div>"
      ],
      "text/plain": [
       "      id                        reason_for_admission  age     sex ethnicity  \\\n",
       "0      1                               Fever [R50.9]   74    Male      \"[]\"   \n",
       "1      2                           Pneumonia [J18.9]   61  Female      \"[]\"   \n",
       "2      3                           Pneumonia [J18.9]   58  Female      \"[]\"   \n",
       "3      4  Suspected COVID-19 virus infection [U07.2]   94    Male      \"[]\"   \n",
       "4      5  Febrile respiratory illness [J98.9, R50.9]   91    Male      \"[]\"   \n",
       "..   ...                                         ...  ...     ...       ...   \n",
       "503  516                 Shortness of breath [R06.0]   74  Female      \"[]\"   \n",
       "504  517                            COVID-19 [U07.1]   81    Male      \"[]\"   \n",
       "505  519                            COVID-19 [U07.1]   74    Male      \"[]\"   \n",
       "506  521                            COVID-19 [U07.1]   48  Female      \"[]\"   \n",
       "507  522                            COVID-19 [U07.1]   73    Male      \"[]\"   \n",
       "\n",
       "     ethnicity_other  height  weight  \\\n",
       "0                NaN     NaN     NaN   \n",
       "1                NaN   154.9    73.6   \n",
       "2                NaN     NaN     NaN   \n",
       "3                NaN   182.8    66.2   \n",
       "4                NaN     NaN     NaN   \n",
       "..               ...     ...     ...   \n",
       "503              NaN     NaN    55.0   \n",
       "504              NaN   158.0    65.0   \n",
       "505              NaN     NaN    81.7   \n",
       "506              NaN   180.0    95.3   \n",
       "507              NaN     NaN     NaN   \n",
       "\n",
       "                                         comorbidities  \\\n",
       "0          \"[\\\"Hypertension\\\",\\\"Diabetes\\\",\\\"Other\\\"]\"   \n",
       "1                       \"[\\\"Hypertension\\\",\\\"Other\\\"]\"   \n",
       "2                                 \"[\\\"Hypertension\\\"]\"   \n",
       "3                       \"[\\\"Hypertension\\\",\\\"Other\\\"]\"   \n",
       "4    \"[\\\"Chronic cardiac disease (not hypertension)...   \n",
       "..                                                 ...   \n",
       "503                                      \"[\\\"Other\\\"]\"   \n",
       "504  \"[\\\"Hypertension\\\",\\\"Chronic renal\\\",\\\"Diabete...   \n",
       "505                     \"[\\\"Hypertension\\\",\\\"Other\\\"]\"   \n",
       "506                                               \"[]\"   \n",
       "507                                               \"[]\"   \n",
       "\n",
       "                                   comorbidities_other  ...  pao2  pao2_fio2  \\\n",
       "0    GERD (gastroesophageal reflux disease), Dement...  ...   NaN        NaN   \n",
       "1    Closed fracture of fifth metatarsal bone, Dive...  ...   NaN        NaN   \n",
       "2                                                  NaN  ...   NaN        NaN   \n",
       "3    Parkinson's Disease, Back pain, Benign Prostat...  ...   NaN        NaN   \n",
       "4    TAVI, Atrial fibrillation, Gastric Reflux, Pac...  ...   NaN        NaN   \n",
       "..                                                 ...  ...   ...        ...   \n",
       "503  Arthritis, High cholesterol, Hypothyroidism, V...  ...   NaN        NaN   \n",
       "504  GERD (gastroesophageal reflux disease), High c...  ...  76.0        1.5   \n",
       "505  Dermatitis, Hyponatremia, Irritable bowel synd...  ...   NaN        NaN   \n",
       "506                                                NaN  ...   NaN        NaN   \n",
       "507                                                NaN  ...   NaN        NaN   \n",
       "\n",
       "       ph high_senstivity_cardiac_troponin  esr  inr ferritin  d_dimer    crp  \\\n",
       "0     NaN                              NaN  NaN  1.1      NaN      NaN  223.0   \n",
       "1     NaN                              NaN  NaN  1.0      NaN     2354   95.6   \n",
       "2     NaN                              NaN  NaN  NaN      NaN      NaN    NaN   \n",
       "3     NaN                              NaN  NaN  NaN      NaN      NaN    NaN   \n",
       "4     NaN                              NaN  NaN  NaN      NaN      NaN    NaN   \n",
       "..    ...                              ...  ...  ...      ...      ...    ...   \n",
       "503   NaN                              NaN  NaN  1.1      NaN      NaN    NaN   \n",
       "504  7.44                              NaN  NaN  NaN      NaN    >4000    NaN   \n",
       "505   NaN                              NaN  NaN  1.5      NaN      NaN    NaN   \n",
       "506   NaN                              NaN  NaN  1.0      NaN      428    NaN   \n",
       "507   NaN                              NaN  NaN  1.1      NaN     1584    NaN   \n",
       "\n",
       "     hs_crp  \n",
       "0       NaN  \n",
       "1       NaN  \n",
       "2       NaN  \n",
       "3       NaN  \n",
       "4       NaN  \n",
       "..      ...  \n",
       "503     NaN  \n",
       "504     NaN  \n",
       "505     NaN  \n",
       "506     NaN  \n",
       "507     NaN  \n",
       "\n",
       "[508 rows x 55 columns]"
      ]
     },
     "execution_count": 1345,
     "metadata": {},
     "output_type": "execute_result"
    }
   ],
   "source": [
    "df"
   ]
  },
  {
   "cell_type": "code",
   "execution_count": 1346,
   "id": "f0bbea9a",
   "metadata": {},
   "outputs": [
    {
     "name": "stdout",
     "output_type": "stream",
     "text": [
      "<class 'pandas.core.frame.DataFrame'>\n",
      "RangeIndex: 508 entries, 0 to 507\n",
      "Data columns (total 55 columns):\n",
      " #   Column                            Non-Null Count  Dtype  \n",
      "---  ------                            --------------  -----  \n",
      " 0   id                                508 non-null    int64  \n",
      " 1   reason_for_admission              508 non-null    object \n",
      " 2   age                               508 non-null    int64  \n",
      " 3   sex                               508 non-null    object \n",
      " 4   ethnicity                         508 non-null    object \n",
      " 5   ethnicity_other                   0 non-null      float64\n",
      " 6   height                            272 non-null    float64\n",
      " 7   weight                            358 non-null    float64\n",
      " 8   comorbidities                     508 non-null    object \n",
      " 9   comorbidities_other               404 non-null    object \n",
      " 10  received_covid_vaccine            1 non-null      object \n",
      " 11  covid_vaccine                     0 non-null      float64\n",
      " 12  medications                       508 non-null    object \n",
      " 13  smoking_history                   296 non-null    object \n",
      " 14  year_they_quit                    43 non-null     float64\n",
      " 15  previous_er_visit_within_14_days  508 non-null    object \n",
      " 16  admission_disposition             508 non-null    object \n",
      " 17  systolic_blood_pressure           508 non-null    int64  \n",
      " 18  diastolic_blood_pressure          508 non-null    int64  \n",
      " 19  heart_rate                        508 non-null    int64  \n",
      " 20  respiratory_rate                  508 non-null    int64  \n",
      " 21  oxygen_saturation                 508 non-null    int64  \n",
      " 22  temperature                       508 non-null    float64\n",
      " 23  motor                             506 non-null    float64\n",
      " 24  verbal                            506 non-null    float64\n",
      " 25  eye                               506 non-null    float64\n",
      " 26  intubated                         508 non-null    object \n",
      " 27  wbc                               506 non-null    float64\n",
      " 28  rbc                               506 non-null    float64\n",
      " 29  hemoglobin                        506 non-null    float64\n",
      " 30  hematocrit                        506 non-null    float64\n",
      " 31  mcv                               506 non-null    float64\n",
      " 32  mch                               506 non-null    float64\n",
      " 33  mchc                              506 non-null    float64\n",
      " 34  rdw                               506 non-null    float64\n",
      " 35  platelet_count                    506 non-null    float64\n",
      " 36  aptt_aptr                         288 non-null    object \n",
      " 37  pt                                315 non-null    float64\n",
      " 38  alt                               403 non-null    float64\n",
      " 39  ast                               403 non-null    float64\n",
      " 40  serum_creatinine                  506 non-null    float64\n",
      " 41  sodium                            506 non-null    float64\n",
      " 42  potassium                         506 non-null    float64\n",
      " 43  total_serum_bilirubin             403 non-null    float64\n",
      " 44  lactate                           362 non-null    float64\n",
      " 45  pao2                              32 non-null     float64\n",
      " 46  pao2_fio2                         23 non-null     float64\n",
      " 47  ph                                32 non-null     float64\n",
      " 48  high_senstivity_cardiac_troponin  0 non-null      float64\n",
      " 49  esr                               5 non-null      float64\n",
      " 50  inr                               315 non-null    float64\n",
      " 51  ferritin                          20 non-null     float64\n",
      " 52  d_dimer                           252 non-null    object \n",
      " 53  crp                               142 non-null    float64\n",
      " 54  hs_crp                            0 non-null      float64\n",
      "dtypes: float64(35), int64(7), object(13)\n",
      "memory usage: 218.4+ KB\n"
     ]
    }
   ],
   "source": [
    "df.info()"
   ]
  },
  {
   "cell_type": "markdown",
   "id": "18bc52c1",
   "metadata": {},
   "source": [
    "Dropping ID as it is just a alternative index (and skips values, its intended to be used to reference a single patient across the different datasets but since we are only using the Data At Admission dataset, the ID column is obsolete), along with the columns that are empty or nearly empty (<=40 non-null values.) We will decide on other columns with much missing data later."
   ]
  },
  {
   "cell_type": "code",
   "execution_count": 1347,
   "id": "5d65ccd8",
   "metadata": {},
   "outputs": [
    {
     "data": {
      "text/plain": [
       "Index(['id', 'reason_for_admission', 'age', 'sex', 'ethnicity',\n",
       "       'ethnicity_other', 'height', 'weight', 'comorbidities',\n",
       "       'comorbidities_other', 'received_covid_vaccine', 'covid_vaccine',\n",
       "       'medications', 'smoking_history', 'year_they_quit',\n",
       "       'previous_er_visit_within_14_days', 'admission_disposition',\n",
       "       'systolic_blood_pressure', 'diastolic_blood_pressure', 'heart_rate',\n",
       "       'respiratory_rate', 'oxygen_saturation', 'temperature', 'motor',\n",
       "       'verbal', 'eye', 'intubated', 'wbc', 'rbc', 'hemoglobin', 'hematocrit',\n",
       "       'mcv', 'mch', 'mchc', 'rdw', 'platelet_count', 'aptt_aptr', 'pt', 'alt',\n",
       "       'ast', 'serum_creatinine', 'sodium', 'potassium',\n",
       "       'total_serum_bilirubin', 'lactate', 'pao2', 'pao2_fio2', 'ph',\n",
       "       'high_senstivity_cardiac_troponin', 'esr', 'inr', 'ferritin', 'd_dimer',\n",
       "       'crp', 'hs_crp'],\n",
       "      dtype='object')"
      ]
     },
     "execution_count": 1347,
     "metadata": {},
     "output_type": "execute_result"
    }
   ],
   "source": [
    "df.columns"
   ]
  },
  {
   "cell_type": "code",
   "execution_count": 1348,
   "id": "38225f78",
   "metadata": {},
   "outputs": [],
   "source": [
    "df.drop(['id','ethnicity_other', 'received_covid_vaccine', 'covid_vaccine','temperature', 'motor',\n",
    "       'verbal', 'eye', 'intubated', 'wbc', 'rbc', 'hemoglobin', 'hematocrit',\n",
    "       'mcv', 'mch', 'mchc', 'rdw', 'platelet_count', 'aptt_aptr', 'pt', 'alt',\n",
    "       'ast', 'serum_creatinine', 'sodium', 'potassium',\n",
    "       'total_serum_bilirubin', 'lactate','pao2', 'pao2_fio2', 'ph',\n",
    "       'high_senstivity_cardiac_troponin', 'esr','ferritin','crp','hs_crp'],axis=1,inplace=True)"
   ]
  },
  {
   "cell_type": "code",
   "execution_count": 1349,
   "id": "8725e9a3",
   "metadata": {},
   "outputs": [
    {
     "name": "stdout",
     "output_type": "stream",
     "text": [
      "<class 'pandas.core.frame.DataFrame'>\n",
      "RangeIndex: 508 entries, 0 to 507\n",
      "Data columns (total 20 columns):\n",
      " #   Column                            Non-Null Count  Dtype  \n",
      "---  ------                            --------------  -----  \n",
      " 0   reason_for_admission              508 non-null    object \n",
      " 1   age                               508 non-null    int64  \n",
      " 2   sex                               508 non-null    object \n",
      " 3   ethnicity                         508 non-null    object \n",
      " 4   height                            272 non-null    float64\n",
      " 5   weight                            358 non-null    float64\n",
      " 6   comorbidities                     508 non-null    object \n",
      " 7   comorbidities_other               404 non-null    object \n",
      " 8   medications                       508 non-null    object \n",
      " 9   smoking_history                   296 non-null    object \n",
      " 10  year_they_quit                    43 non-null     float64\n",
      " 11  previous_er_visit_within_14_days  508 non-null    object \n",
      " 12  admission_disposition             508 non-null    object \n",
      " 13  systolic_blood_pressure           508 non-null    int64  \n",
      " 14  diastolic_blood_pressure          508 non-null    int64  \n",
      " 15  heart_rate                        508 non-null    int64  \n",
      " 16  respiratory_rate                  508 non-null    int64  \n",
      " 17  oxygen_saturation                 508 non-null    int64  \n",
      " 18  inr                               315 non-null    float64\n",
      " 19  d_dimer                           252 non-null    object \n",
      "dtypes: float64(4), int64(6), object(10)\n",
      "memory usage: 79.5+ KB\n"
     ]
    }
   ],
   "source": [
    "df.info()"
   ]
  },
  {
   "cell_type": "markdown",
   "id": "15f93224",
   "metadata": {},
   "source": [
    "Noticed earlier that ethnicity seems to have a lot of (if not completely comprised of) \"[]\" values, and on the website there seemed to be an off value in the sex column. Going to check both of them using .groupby().count to see if we should keep ethnicity at all and whether theres a typo in sex."
   ]
  },
  {
   "cell_type": "code",
   "execution_count": 1350,
   "id": "c0f5e5d4",
   "metadata": {},
   "outputs": [
    {
     "data": {
      "text/plain": [
       "ethnicity\n",
       "\"[]\"    508\n",
       "Name: ethnicity, dtype: int64"
      ]
     },
     "execution_count": 1350,
     "metadata": {},
     "output_type": "execute_result"
    }
   ],
   "source": [
    "df.ethnicity.groupby(df.ethnicity).count()"
   ]
  },
  {
   "cell_type": "markdown",
   "id": "8366a663",
   "metadata": {},
   "source": [
    "Ethnicity column has no actual values for all intents and purposes. Dropping."
   ]
  },
  {
   "cell_type": "code",
   "execution_count": 1351,
   "id": "00de44bb",
   "metadata": {},
   "outputs": [],
   "source": [
    "df.drop(['ethnicity'],axis=1,inplace=True)"
   ]
  },
  {
   "cell_type": "code",
   "execution_count": 1352,
   "id": "a3efe209",
   "metadata": {},
   "outputs": [
    {
     "data": {
      "text/plain": [
       "sex\n",
       "Female    212\n",
       "Male      296\n",
       "Name: sex, dtype: int64"
      ]
     },
     "execution_count": 1352,
     "metadata": {},
     "output_type": "execute_result"
    }
   ],
   "source": [
    "df.sex.groupby(df.sex).count()"
   ]
  },
  {
   "cell_type": "markdown",
   "id": "56931901",
   "metadata": {},
   "source": [
    "Does not appear to be a typo in sex. Good! Now checking how many columns we still have, along with their datatypes."
   ]
  },
  {
   "cell_type": "code",
   "execution_count": 1353,
   "id": "87ef3fc3",
   "metadata": {},
   "outputs": [
    {
     "data": {
      "text/plain": [
       "19"
      ]
     },
     "execution_count": 1353,
     "metadata": {},
     "output_type": "execute_result"
    }
   ],
   "source": [
    "len(df.columns)"
   ]
  },
  {
   "cell_type": "code",
   "execution_count": 1354,
   "id": "e48b968c",
   "metadata": {},
   "outputs": [
    {
     "data": {
      "text/html": [
       "<div>\n",
       "<style scoped>\n",
       "    .dataframe tbody tr th:only-of-type {\n",
       "        vertical-align: middle;\n",
       "    }\n",
       "\n",
       "    .dataframe tbody tr th {\n",
       "        vertical-align: top;\n",
       "    }\n",
       "\n",
       "    .dataframe thead th {\n",
       "        text-align: right;\n",
       "    }\n",
       "</style>\n",
       "<table border=\"1\" class=\"dataframe\">\n",
       "  <thead>\n",
       "    <tr style=\"text-align: right;\">\n",
       "      <th></th>\n",
       "      <th>reason_for_admission</th>\n",
       "      <th>age</th>\n",
       "      <th>sex</th>\n",
       "      <th>height</th>\n",
       "      <th>weight</th>\n",
       "      <th>comorbidities</th>\n",
       "      <th>comorbidities_other</th>\n",
       "      <th>medications</th>\n",
       "      <th>smoking_history</th>\n",
       "      <th>year_they_quit</th>\n",
       "      <th>previous_er_visit_within_14_days</th>\n",
       "      <th>admission_disposition</th>\n",
       "      <th>systolic_blood_pressure</th>\n",
       "      <th>diastolic_blood_pressure</th>\n",
       "      <th>heart_rate</th>\n",
       "      <th>respiratory_rate</th>\n",
       "      <th>oxygen_saturation</th>\n",
       "      <th>inr</th>\n",
       "      <th>d_dimer</th>\n",
       "    </tr>\n",
       "  </thead>\n",
       "  <tbody>\n",
       "    <tr>\n",
       "      <th>0</th>\n",
       "      <td>Fever [R50.9]</td>\n",
       "      <td>74</td>\n",
       "      <td>Male</td>\n",
       "      <td>NaN</td>\n",
       "      <td>NaN</td>\n",
       "      <td>\"[\\\"Hypertension\\\",\\\"Diabetes\\\",\\\"Other\\\"]\"</td>\n",
       "      <td>GERD (gastroesophageal reflux disease), Dement...</td>\n",
       "      <td>\"[{\\\"medications\\\":\\\"TYLENOL EXTRA STRENGTH\\\",...</td>\n",
       "      <td>NaN</td>\n",
       "      <td>NaN</td>\n",
       "      <td>No</td>\n",
       "      <td>WARD</td>\n",
       "      <td>99</td>\n",
       "      <td>62</td>\n",
       "      <td>85</td>\n",
       "      <td>20</td>\n",
       "      <td>93</td>\n",
       "      <td>1.1</td>\n",
       "      <td>NaN</td>\n",
       "    </tr>\n",
       "    <tr>\n",
       "      <th>1</th>\n",
       "      <td>Pneumonia [J18.9]</td>\n",
       "      <td>61</td>\n",
       "      <td>Female</td>\n",
       "      <td>154.9</td>\n",
       "      <td>73.6</td>\n",
       "      <td>\"[\\\"Hypertension\\\",\\\"Other\\\"]\"</td>\n",
       "      <td>Closed fracture of fifth metatarsal bone, Dive...</td>\n",
       "      <td>\"[{\\\"medications\\\":\\\"CANDESARTAN\\\",\\\"dosage\\\":...</td>\n",
       "      <td>NaN</td>\n",
       "      <td>NaN</td>\n",
       "      <td>No</td>\n",
       "      <td>WARD</td>\n",
       "      <td>122</td>\n",
       "      <td>77</td>\n",
       "      <td>93</td>\n",
       "      <td>36</td>\n",
       "      <td>88</td>\n",
       "      <td>1.0</td>\n",
       "      <td>2354</td>\n",
       "    </tr>\n",
       "    <tr>\n",
       "      <th>2</th>\n",
       "      <td>Pneumonia [J18.9]</td>\n",
       "      <td>58</td>\n",
       "      <td>Female</td>\n",
       "      <td>NaN</td>\n",
       "      <td>NaN</td>\n",
       "      <td>\"[\\\"Hypertension\\\"]\"</td>\n",
       "      <td>NaN</td>\n",
       "      <td>\"[{\\\"medications\\\":\\\"\\\",\\\"dosage\\\":\\\"\\\",\\\"freq...</td>\n",
       "      <td>NaN</td>\n",
       "      <td>NaN</td>\n",
       "      <td>No</td>\n",
       "      <td>WARD</td>\n",
       "      <td>109</td>\n",
       "      <td>72</td>\n",
       "      <td>73</td>\n",
       "      <td>24</td>\n",
       "      <td>91</td>\n",
       "      <td>NaN</td>\n",
       "      <td>NaN</td>\n",
       "    </tr>\n",
       "    <tr>\n",
       "      <th>3</th>\n",
       "      <td>Suspected COVID-19 virus infection [U07.2]</td>\n",
       "      <td>94</td>\n",
       "      <td>Male</td>\n",
       "      <td>182.8</td>\n",
       "      <td>66.2</td>\n",
       "      <td>\"[\\\"Hypertension\\\",\\\"Other\\\"]\"</td>\n",
       "      <td>Parkinson's Disease, Back pain, Benign Prostat...</td>\n",
       "      <td>\"[{\\\"medications\\\":\\\"ACETYLSALICYLIC ACID  TAB...</td>\n",
       "      <td>NaN</td>\n",
       "      <td>NaN</td>\n",
       "      <td>No</td>\n",
       "      <td>WARD</td>\n",
       "      <td>165</td>\n",
       "      <td>71</td>\n",
       "      <td>92</td>\n",
       "      <td>16</td>\n",
       "      <td>96</td>\n",
       "      <td>NaN</td>\n",
       "      <td>NaN</td>\n",
       "    </tr>\n",
       "    <tr>\n",
       "      <th>4</th>\n",
       "      <td>Febrile respiratory illness [J98.9, R50.9]</td>\n",
       "      <td>91</td>\n",
       "      <td>Male</td>\n",
       "      <td>NaN</td>\n",
       "      <td>NaN</td>\n",
       "      <td>\"[\\\"Chronic cardiac disease (not hypertension)...</td>\n",
       "      <td>TAVI, Atrial fibrillation, Gastric Reflux, Pac...</td>\n",
       "      <td>\"[{\\\"medications\\\":\\\"TRAZODONE\\\",\\\"dosage\\\":\\\"...</td>\n",
       "      <td>Ex-smoker</td>\n",
       "      <td>NaN</td>\n",
       "      <td>No</td>\n",
       "      <td>WARD</td>\n",
       "      <td>131</td>\n",
       "      <td>76</td>\n",
       "      <td>60</td>\n",
       "      <td>18</td>\n",
       "      <td>95</td>\n",
       "      <td>NaN</td>\n",
       "      <td>NaN</td>\n",
       "    </tr>\n",
       "  </tbody>\n",
       "</table>\n",
       "</div>"
      ],
      "text/plain": [
       "                         reason_for_admission  age     sex  height  weight  \\\n",
       "0                               Fever [R50.9]   74    Male     NaN     NaN   \n",
       "1                           Pneumonia [J18.9]   61  Female   154.9    73.6   \n",
       "2                           Pneumonia [J18.9]   58  Female     NaN     NaN   \n",
       "3  Suspected COVID-19 virus infection [U07.2]   94    Male   182.8    66.2   \n",
       "4  Febrile respiratory illness [J98.9, R50.9]   91    Male     NaN     NaN   \n",
       "\n",
       "                                       comorbidities  \\\n",
       "0        \"[\\\"Hypertension\\\",\\\"Diabetes\\\",\\\"Other\\\"]\"   \n",
       "1                     \"[\\\"Hypertension\\\",\\\"Other\\\"]\"   \n",
       "2                               \"[\\\"Hypertension\\\"]\"   \n",
       "3                     \"[\\\"Hypertension\\\",\\\"Other\\\"]\"   \n",
       "4  \"[\\\"Chronic cardiac disease (not hypertension)...   \n",
       "\n",
       "                                 comorbidities_other  \\\n",
       "0  GERD (gastroesophageal reflux disease), Dement...   \n",
       "1  Closed fracture of fifth metatarsal bone, Dive...   \n",
       "2                                                NaN   \n",
       "3  Parkinson's Disease, Back pain, Benign Prostat...   \n",
       "4  TAVI, Atrial fibrillation, Gastric Reflux, Pac...   \n",
       "\n",
       "                                         medications smoking_history  \\\n",
       "0  \"[{\\\"medications\\\":\\\"TYLENOL EXTRA STRENGTH\\\",...             NaN   \n",
       "1  \"[{\\\"medications\\\":\\\"CANDESARTAN\\\",\\\"dosage\\\":...             NaN   \n",
       "2  \"[{\\\"medications\\\":\\\"\\\",\\\"dosage\\\":\\\"\\\",\\\"freq...             NaN   \n",
       "3  \"[{\\\"medications\\\":\\\"ACETYLSALICYLIC ACID  TAB...             NaN   \n",
       "4  \"[{\\\"medications\\\":\\\"TRAZODONE\\\",\\\"dosage\\\":\\\"...       Ex-smoker   \n",
       "\n",
       "   year_they_quit previous_er_visit_within_14_days admission_disposition  \\\n",
       "0             NaN                               No                  WARD   \n",
       "1             NaN                               No                  WARD   \n",
       "2             NaN                               No                  WARD   \n",
       "3             NaN                               No                  WARD   \n",
       "4             NaN                               No                  WARD   \n",
       "\n",
       "   systolic_blood_pressure  diastolic_blood_pressure  heart_rate  \\\n",
       "0                       99                        62          85   \n",
       "1                      122                        77          93   \n",
       "2                      109                        72          73   \n",
       "3                      165                        71          92   \n",
       "4                      131                        76          60   \n",
       "\n",
       "   respiratory_rate  oxygen_saturation  inr d_dimer  \n",
       "0                20                 93  1.1     NaN  \n",
       "1                36                 88  1.0    2354  \n",
       "2                24                 91  NaN     NaN  \n",
       "3                16                 96  NaN     NaN  \n",
       "4                18                 95  NaN     NaN  "
      ]
     },
     "execution_count": 1354,
     "metadata": {},
     "output_type": "execute_result"
    }
   ],
   "source": [
    "df.head()"
   ]
  },
  {
   "cell_type": "code",
   "execution_count": 1355,
   "id": "ca84d05f",
   "metadata": {},
   "outputs": [
    {
     "data": {
      "text/plain": [
       "reason_for_admission                 object\n",
       "age                                   int64\n",
       "sex                                  object\n",
       "height                              float64\n",
       "weight                              float64\n",
       "comorbidities                        object\n",
       "comorbidities_other                  object\n",
       "medications                          object\n",
       "smoking_history                      object\n",
       "year_they_quit                      float64\n",
       "previous_er_visit_within_14_days     object\n",
       "admission_disposition                object\n",
       "systolic_blood_pressure               int64\n",
       "diastolic_blood_pressure              int64\n",
       "heart_rate                            int64\n",
       "respiratory_rate                      int64\n",
       "oxygen_saturation                     int64\n",
       "inr                                 float64\n",
       "d_dimer                              object\n",
       "dtype: object"
      ]
     },
     "execution_count": 1355,
     "metadata": {},
     "output_type": "execute_result"
    }
   ],
   "source": [
    "df.dtypes"
   ]
  },
  {
   "cell_type": "markdown",
   "id": "28a5ec23",
   "metadata": {},
   "source": [
    "Going to get the pairwise correlation table just to see if theres anything that immmediately stands out at this stage."
   ]
  },
  {
   "cell_type": "code",
   "execution_count": 1356,
   "id": "9e02757a",
   "metadata": {},
   "outputs": [
    {
     "data": {
      "text/html": [
       "<div>\n",
       "<style scoped>\n",
       "    .dataframe tbody tr th:only-of-type {\n",
       "        vertical-align: middle;\n",
       "    }\n",
       "\n",
       "    .dataframe tbody tr th {\n",
       "        vertical-align: top;\n",
       "    }\n",
       "\n",
       "    .dataframe thead th {\n",
       "        text-align: right;\n",
       "    }\n",
       "</style>\n",
       "<table border=\"1\" class=\"dataframe\">\n",
       "  <thead>\n",
       "    <tr style=\"text-align: right;\">\n",
       "      <th></th>\n",
       "      <th>age</th>\n",
       "      <th>height</th>\n",
       "      <th>weight</th>\n",
       "      <th>year_they_quit</th>\n",
       "      <th>systolic_blood_pressure</th>\n",
       "      <th>diastolic_blood_pressure</th>\n",
       "      <th>heart_rate</th>\n",
       "      <th>respiratory_rate</th>\n",
       "      <th>oxygen_saturation</th>\n",
       "      <th>inr</th>\n",
       "    </tr>\n",
       "  </thead>\n",
       "  <tbody>\n",
       "    <tr>\n",
       "      <th>age</th>\n",
       "      <td>1.000000</td>\n",
       "      <td>-0.270279</td>\n",
       "      <td>-0.377498</td>\n",
       "      <td>-0.343756</td>\n",
       "      <td>0.069945</td>\n",
       "      <td>-0.171599</td>\n",
       "      <td>-0.347154</td>\n",
       "      <td>-0.145326</td>\n",
       "      <td>-0.030766</td>\n",
       "      <td>0.105539</td>\n",
       "    </tr>\n",
       "    <tr>\n",
       "      <th>height</th>\n",
       "      <td>-0.270279</td>\n",
       "      <td>1.000000</td>\n",
       "      <td>0.467210</td>\n",
       "      <td>-0.022039</td>\n",
       "      <td>0.024319</td>\n",
       "      <td>0.099043</td>\n",
       "      <td>0.141969</td>\n",
       "      <td>0.011598</td>\n",
       "      <td>0.007100</td>\n",
       "      <td>0.200931</td>\n",
       "    </tr>\n",
       "    <tr>\n",
       "      <th>weight</th>\n",
       "      <td>-0.377498</td>\n",
       "      <td>0.467210</td>\n",
       "      <td>1.000000</td>\n",
       "      <td>-0.100169</td>\n",
       "      <td>-0.006880</td>\n",
       "      <td>0.079176</td>\n",
       "      <td>0.098641</td>\n",
       "      <td>0.078056</td>\n",
       "      <td>-0.087124</td>\n",
       "      <td>0.022127</td>\n",
       "    </tr>\n",
       "    <tr>\n",
       "      <th>year_they_quit</th>\n",
       "      <td>-0.343756</td>\n",
       "      <td>-0.022039</td>\n",
       "      <td>-0.100169</td>\n",
       "      <td>1.000000</td>\n",
       "      <td>0.075185</td>\n",
       "      <td>0.242800</td>\n",
       "      <td>0.172657</td>\n",
       "      <td>0.157459</td>\n",
       "      <td>-0.377551</td>\n",
       "      <td>-0.173659</td>\n",
       "    </tr>\n",
       "    <tr>\n",
       "      <th>systolic_blood_pressure</th>\n",
       "      <td>0.069945</td>\n",
       "      <td>0.024319</td>\n",
       "      <td>-0.006880</td>\n",
       "      <td>0.075185</td>\n",
       "      <td>1.000000</td>\n",
       "      <td>0.567449</td>\n",
       "      <td>0.126706</td>\n",
       "      <td>0.113850</td>\n",
       "      <td>0.019313</td>\n",
       "      <td>-0.012608</td>\n",
       "    </tr>\n",
       "    <tr>\n",
       "      <th>diastolic_blood_pressure</th>\n",
       "      <td>-0.171599</td>\n",
       "      <td>0.099043</td>\n",
       "      <td>0.079176</td>\n",
       "      <td>0.242800</td>\n",
       "      <td>0.567449</td>\n",
       "      <td>1.000000</td>\n",
       "      <td>0.288724</td>\n",
       "      <td>0.121301</td>\n",
       "      <td>0.100811</td>\n",
       "      <td>-0.019948</td>\n",
       "    </tr>\n",
       "    <tr>\n",
       "      <th>heart_rate</th>\n",
       "      <td>-0.347154</td>\n",
       "      <td>0.141969</td>\n",
       "      <td>0.098641</td>\n",
       "      <td>0.172657</td>\n",
       "      <td>0.126706</td>\n",
       "      <td>0.288724</td>\n",
       "      <td>1.000000</td>\n",
       "      <td>0.281794</td>\n",
       "      <td>-0.110209</td>\n",
       "      <td>-0.051685</td>\n",
       "    </tr>\n",
       "    <tr>\n",
       "      <th>respiratory_rate</th>\n",
       "      <td>-0.145326</td>\n",
       "      <td>0.011598</td>\n",
       "      <td>0.078056</td>\n",
       "      <td>0.157459</td>\n",
       "      <td>0.113850</td>\n",
       "      <td>0.121301</td>\n",
       "      <td>0.281794</td>\n",
       "      <td>1.000000</td>\n",
       "      <td>-0.292778</td>\n",
       "      <td>0.005740</td>\n",
       "    </tr>\n",
       "    <tr>\n",
       "      <th>oxygen_saturation</th>\n",
       "      <td>-0.030766</td>\n",
       "      <td>0.007100</td>\n",
       "      <td>-0.087124</td>\n",
       "      <td>-0.377551</td>\n",
       "      <td>0.019313</td>\n",
       "      <td>0.100811</td>\n",
       "      <td>-0.110209</td>\n",
       "      <td>-0.292778</td>\n",
       "      <td>1.000000</td>\n",
       "      <td>-0.043497</td>\n",
       "    </tr>\n",
       "    <tr>\n",
       "      <th>inr</th>\n",
       "      <td>0.105539</td>\n",
       "      <td>0.200931</td>\n",
       "      <td>0.022127</td>\n",
       "      <td>-0.173659</td>\n",
       "      <td>-0.012608</td>\n",
       "      <td>-0.019948</td>\n",
       "      <td>-0.051685</td>\n",
       "      <td>0.005740</td>\n",
       "      <td>-0.043497</td>\n",
       "      <td>1.000000</td>\n",
       "    </tr>\n",
       "  </tbody>\n",
       "</table>\n",
       "</div>"
      ],
      "text/plain": [
       "                               age    height    weight  year_they_quit  \\\n",
       "age                       1.000000 -0.270279 -0.377498       -0.343756   \n",
       "height                   -0.270279  1.000000  0.467210       -0.022039   \n",
       "weight                   -0.377498  0.467210  1.000000       -0.100169   \n",
       "year_they_quit           -0.343756 -0.022039 -0.100169        1.000000   \n",
       "systolic_blood_pressure   0.069945  0.024319 -0.006880        0.075185   \n",
       "diastolic_blood_pressure -0.171599  0.099043  0.079176        0.242800   \n",
       "heart_rate               -0.347154  0.141969  0.098641        0.172657   \n",
       "respiratory_rate         -0.145326  0.011598  0.078056        0.157459   \n",
       "oxygen_saturation        -0.030766  0.007100 -0.087124       -0.377551   \n",
       "inr                       0.105539  0.200931  0.022127       -0.173659   \n",
       "\n",
       "                          systolic_blood_pressure  diastolic_blood_pressure  \\\n",
       "age                                      0.069945                 -0.171599   \n",
       "height                                   0.024319                  0.099043   \n",
       "weight                                  -0.006880                  0.079176   \n",
       "year_they_quit                           0.075185                  0.242800   \n",
       "systolic_blood_pressure                  1.000000                  0.567449   \n",
       "diastolic_blood_pressure                 0.567449                  1.000000   \n",
       "heart_rate                               0.126706                  0.288724   \n",
       "respiratory_rate                         0.113850                  0.121301   \n",
       "oxygen_saturation                        0.019313                  0.100811   \n",
       "inr                                     -0.012608                 -0.019948   \n",
       "\n",
       "                          heart_rate  respiratory_rate  oxygen_saturation  \\\n",
       "age                        -0.347154         -0.145326          -0.030766   \n",
       "height                      0.141969          0.011598           0.007100   \n",
       "weight                      0.098641          0.078056          -0.087124   \n",
       "year_they_quit              0.172657          0.157459          -0.377551   \n",
       "systolic_blood_pressure     0.126706          0.113850           0.019313   \n",
       "diastolic_blood_pressure    0.288724          0.121301           0.100811   \n",
       "heart_rate                  1.000000          0.281794          -0.110209   \n",
       "respiratory_rate            0.281794          1.000000          -0.292778   \n",
       "oxygen_saturation          -0.110209         -0.292778           1.000000   \n",
       "inr                        -0.051685          0.005740          -0.043497   \n",
       "\n",
       "                               inr  \n",
       "age                       0.105539  \n",
       "height                    0.200931  \n",
       "weight                    0.022127  \n",
       "year_they_quit           -0.173659  \n",
       "systolic_blood_pressure  -0.012608  \n",
       "diastolic_blood_pressure -0.019948  \n",
       "heart_rate               -0.051685  \n",
       "respiratory_rate          0.005740  \n",
       "oxygen_saturation        -0.043497  \n",
       "inr                       1.000000  "
      ]
     },
     "execution_count": 1356,
     "metadata": {},
     "output_type": "execute_result"
    }
   ],
   "source": [
    "df.corr()"
   ]
  },
  {
   "cell_type": "markdown",
   "id": "f5eee905",
   "metadata": {},
   "source": [
    "Well, it seems like most things are very weakly correlated, but there is a correlation coefficient of .996 between inr and pt.  Theres a .8 between alt and ast.  Those might be worth looking into. Surprisingly it seems like age does not have a correlation with an absolute value more than .5, which is noteable and might be worth looking at via pair plots."
   ]
  },
  {
   "cell_type": "code",
   "execution_count": 1357,
   "id": "75a63ec1-f85f-44d3-bf0e-3891244a7e24",
   "metadata": {},
   "outputs": [
    {
     "data": {
      "text/plain": [
       "(508, 19)"
      ]
     },
     "execution_count": 1357,
     "metadata": {},
     "output_type": "execute_result"
    }
   ],
   "source": [
    "df.shape"
   ]
  },
  {
   "cell_type": "code",
   "execution_count": 1358,
   "id": "e3bc2b17-0cf1-4ddf-b373-73a510201f92",
   "metadata": {},
   "outputs": [
    {
     "data": {
      "text/plain": [
       "Index(['reason_for_admission', 'age', 'sex', 'height', 'weight',\n",
       "       'comorbidities', 'comorbidities_other', 'medications',\n",
       "       'smoking_history', 'year_they_quit', 'previous_er_visit_within_14_days',\n",
       "       'admission_disposition', 'systolic_blood_pressure',\n",
       "       'diastolic_blood_pressure', 'heart_rate', 'respiratory_rate',\n",
       "       'oxygen_saturation', 'inr', 'd_dimer'],\n",
       "      dtype='object')"
      ]
     },
     "execution_count": 1358,
     "metadata": {},
     "output_type": "execute_result"
    }
   ],
   "source": [
    "df.columns"
   ]
  },
  {
   "cell_type": "code",
   "execution_count": 1359,
   "id": "002f23b8-e9bc-4720-a507-87ae7c3795b1",
   "metadata": {},
   "outputs": [
    {
     "name": "stdout",
     "output_type": "stream",
     "text": [
      "<class 'pandas.core.frame.DataFrame'>\n",
      "RangeIndex: 508 entries, 0 to 507\n",
      "Data columns (total 19 columns):\n",
      " #   Column                            Non-Null Count  Dtype  \n",
      "---  ------                            --------------  -----  \n",
      " 0   reason_for_admission              508 non-null    object \n",
      " 1   age                               508 non-null    int64  \n",
      " 2   sex                               508 non-null    object \n",
      " 3   height                            272 non-null    float64\n",
      " 4   weight                            358 non-null    float64\n",
      " 5   comorbidities                     508 non-null    object \n",
      " 6   comorbidities_other               404 non-null    object \n",
      " 7   medications                       508 non-null    object \n",
      " 8   smoking_history                   296 non-null    object \n",
      " 9   year_they_quit                    43 non-null     float64\n",
      " 10  previous_er_visit_within_14_days  508 non-null    object \n",
      " 11  admission_disposition             508 non-null    object \n",
      " 12  systolic_blood_pressure           508 non-null    int64  \n",
      " 13  diastolic_blood_pressure          508 non-null    int64  \n",
      " 14  heart_rate                        508 non-null    int64  \n",
      " 15  respiratory_rate                  508 non-null    int64  \n",
      " 16  oxygen_saturation                 508 non-null    int64  \n",
      " 17  inr                               315 non-null    float64\n",
      " 18  d_dimer                           252 non-null    object \n",
      "dtypes: float64(4), int64(6), object(9)\n",
      "memory usage: 75.5+ KB\n"
     ]
    }
   ],
   "source": [
    "df.info()"
   ]
  },
  {
   "cell_type": "code",
   "execution_count": 1360,
   "id": "1bb62049-2161-461c-ac21-5e063efe53c0",
   "metadata": {},
   "outputs": [
    {
     "data": {
      "text/html": [
       "<div>\n",
       "<style scoped>\n",
       "    .dataframe tbody tr th:only-of-type {\n",
       "        vertical-align: middle;\n",
       "    }\n",
       "\n",
       "    .dataframe tbody tr th {\n",
       "        vertical-align: top;\n",
       "    }\n",
       "\n",
       "    .dataframe thead th {\n",
       "        text-align: right;\n",
       "    }\n",
       "</style>\n",
       "<table border=\"1\" class=\"dataframe\">\n",
       "  <thead>\n",
       "    <tr style=\"text-align: right;\">\n",
       "      <th></th>\n",
       "      <th>age</th>\n",
       "      <th>height</th>\n",
       "      <th>weight</th>\n",
       "      <th>year_they_quit</th>\n",
       "      <th>systolic_blood_pressure</th>\n",
       "      <th>diastolic_blood_pressure</th>\n",
       "      <th>heart_rate</th>\n",
       "      <th>respiratory_rate</th>\n",
       "      <th>oxygen_saturation</th>\n",
       "      <th>inr</th>\n",
       "    </tr>\n",
       "  </thead>\n",
       "  <tbody>\n",
       "    <tr>\n",
       "      <th>count</th>\n",
       "      <td>508.000000</td>\n",
       "      <td>272.000000</td>\n",
       "      <td>358.000000</td>\n",
       "      <td>43.000000</td>\n",
       "      <td>508.000000</td>\n",
       "      <td>508.000000</td>\n",
       "      <td>508.000000</td>\n",
       "      <td>508.000000</td>\n",
       "      <td>508.000000</td>\n",
       "      <td>315.000000</td>\n",
       "    </tr>\n",
       "    <tr>\n",
       "      <th>mean</th>\n",
       "      <td>66.027559</td>\n",
       "      <td>166.911029</td>\n",
       "      <td>80.265922</td>\n",
       "      <td>1999.744186</td>\n",
       "      <td>129.362205</td>\n",
       "      <td>75.566929</td>\n",
       "      <td>97.397638</td>\n",
       "      <td>24.901575</td>\n",
       "      <td>93.100394</td>\n",
       "      <td>1.159365</td>\n",
       "    </tr>\n",
       "    <tr>\n",
       "      <th>std</th>\n",
       "      <td>16.394160</td>\n",
       "      <td>10.961776</td>\n",
       "      <td>21.810799</td>\n",
       "      <td>15.433564</td>\n",
       "      <td>22.051194</td>\n",
       "      <td>12.851352</td>\n",
       "      <td>17.513347</td>\n",
       "      <td>7.170656</td>\n",
       "      <td>6.102006</td>\n",
       "      <td>0.676116</td>\n",
       "    </tr>\n",
       "    <tr>\n",
       "      <th>min</th>\n",
       "      <td>19.000000</td>\n",
       "      <td>125.000000</td>\n",
       "      <td>27.700000</td>\n",
       "      <td>1971.000000</td>\n",
       "      <td>85.000000</td>\n",
       "      <td>22.000000</td>\n",
       "      <td>41.000000</td>\n",
       "      <td>12.000000</td>\n",
       "      <td>47.000000</td>\n",
       "      <td>0.900000</td>\n",
       "    </tr>\n",
       "    <tr>\n",
       "      <th>25%</th>\n",
       "      <td>55.750000</td>\n",
       "      <td>159.000000</td>\n",
       "      <td>65.800000</td>\n",
       "      <td>1990.000000</td>\n",
       "      <td>115.000000</td>\n",
       "      <td>68.000000</td>\n",
       "      <td>86.000000</td>\n",
       "      <td>20.000000</td>\n",
       "      <td>92.000000</td>\n",
       "      <td>1.000000</td>\n",
       "    </tr>\n",
       "    <tr>\n",
       "      <th>50%</th>\n",
       "      <td>66.000000</td>\n",
       "      <td>167.600000</td>\n",
       "      <td>76.700000</td>\n",
       "      <td>2000.000000</td>\n",
       "      <td>127.000000</td>\n",
       "      <td>75.000000</td>\n",
       "      <td>98.000000</td>\n",
       "      <td>24.000000</td>\n",
       "      <td>94.000000</td>\n",
       "      <td>1.000000</td>\n",
       "    </tr>\n",
       "    <tr>\n",
       "      <th>75%</th>\n",
       "      <td>78.000000</td>\n",
       "      <td>175.000000</td>\n",
       "      <td>89.800000</td>\n",
       "      <td>2013.500000</td>\n",
       "      <td>143.000000</td>\n",
       "      <td>83.000000</td>\n",
       "      <td>109.000000</td>\n",
       "      <td>28.000000</td>\n",
       "      <td>96.000000</td>\n",
       "      <td>1.100000</td>\n",
       "    </tr>\n",
       "    <tr>\n",
       "      <th>max</th>\n",
       "      <td>100.000000</td>\n",
       "      <td>198.000000</td>\n",
       "      <td>199.600000</td>\n",
       "      <td>2021.000000</td>\n",
       "      <td>227.000000</td>\n",
       "      <td>145.000000</td>\n",
       "      <td>161.000000</td>\n",
       "      <td>59.000000</td>\n",
       "      <td>100.000000</td>\n",
       "      <td>8.900000</td>\n",
       "    </tr>\n",
       "  </tbody>\n",
       "</table>\n",
       "</div>"
      ],
      "text/plain": [
       "              age      height      weight  year_they_quit  \\\n",
       "count  508.000000  272.000000  358.000000       43.000000   \n",
       "mean    66.027559  166.911029   80.265922     1999.744186   \n",
       "std     16.394160   10.961776   21.810799       15.433564   \n",
       "min     19.000000  125.000000   27.700000     1971.000000   \n",
       "25%     55.750000  159.000000   65.800000     1990.000000   \n",
       "50%     66.000000  167.600000   76.700000     2000.000000   \n",
       "75%     78.000000  175.000000   89.800000     2013.500000   \n",
       "max    100.000000  198.000000  199.600000     2021.000000   \n",
       "\n",
       "       systolic_blood_pressure  diastolic_blood_pressure  heart_rate  \\\n",
       "count               508.000000                508.000000  508.000000   \n",
       "mean                129.362205                 75.566929   97.397638   \n",
       "std                  22.051194                 12.851352   17.513347   \n",
       "min                  85.000000                 22.000000   41.000000   \n",
       "25%                 115.000000                 68.000000   86.000000   \n",
       "50%                 127.000000                 75.000000   98.000000   \n",
       "75%                 143.000000                 83.000000  109.000000   \n",
       "max                 227.000000                145.000000  161.000000   \n",
       "\n",
       "       respiratory_rate  oxygen_saturation         inr  \n",
       "count        508.000000         508.000000  315.000000  \n",
       "mean          24.901575          93.100394    1.159365  \n",
       "std            7.170656           6.102006    0.676116  \n",
       "min           12.000000          47.000000    0.900000  \n",
       "25%           20.000000          92.000000    1.000000  \n",
       "50%           24.000000          94.000000    1.000000  \n",
       "75%           28.000000          96.000000    1.100000  \n",
       "max           59.000000         100.000000    8.900000  "
      ]
     },
     "execution_count": 1360,
     "metadata": {},
     "output_type": "execute_result"
    }
   ],
   "source": [
    "df.describe()"
   ]
  },
  {
   "cell_type": "markdown",
   "id": "bb093787-48de-401d-98e0-a263c5171282",
   "metadata": {},
   "source": [
    "#### Sorting"
   ]
  },
  {
   "cell_type": "code",
   "execution_count": 1361,
   "id": "f33b72cf-2ef7-4bf6-8220-fd61236ad56e",
   "metadata": {},
   "outputs": [
    {
     "data": {
      "text/html": [
       "<div>\n",
       "<style scoped>\n",
       "    .dataframe tbody tr th:only-of-type {\n",
       "        vertical-align: middle;\n",
       "    }\n",
       "\n",
       "    .dataframe tbody tr th {\n",
       "        vertical-align: top;\n",
       "    }\n",
       "\n",
       "    .dataframe thead th {\n",
       "        text-align: right;\n",
       "    }\n",
       "</style>\n",
       "<table border=\"1\" class=\"dataframe\">\n",
       "  <thead>\n",
       "    <tr style=\"text-align: right;\">\n",
       "      <th></th>\n",
       "      <th>reason_for_admission</th>\n",
       "      <th>age</th>\n",
       "      <th>sex</th>\n",
       "      <th>height</th>\n",
       "      <th>weight</th>\n",
       "      <th>comorbidities</th>\n",
       "      <th>comorbidities_other</th>\n",
       "      <th>medications</th>\n",
       "      <th>smoking_history</th>\n",
       "      <th>year_they_quit</th>\n",
       "      <th>previous_er_visit_within_14_days</th>\n",
       "      <th>admission_disposition</th>\n",
       "      <th>systolic_blood_pressure</th>\n",
       "      <th>diastolic_blood_pressure</th>\n",
       "      <th>heart_rate</th>\n",
       "      <th>respiratory_rate</th>\n",
       "      <th>oxygen_saturation</th>\n",
       "      <th>inr</th>\n",
       "      <th>d_dimer</th>\n",
       "    </tr>\n",
       "  </thead>\n",
       "  <tbody>\n",
       "    <tr>\n",
       "      <th>373</th>\n",
       "      <td>Pneumonia [J18.9]</td>\n",
       "      <td>100</td>\n",
       "      <td>Male</td>\n",
       "      <td>167.0</td>\n",
       "      <td>59.0</td>\n",
       "      <td>\"[\\\"Chronic cardiac disease (not hypertension)...</td>\n",
       "      <td>Hypocholesteremia, GI bleed</td>\n",
       "      <td>\"[{\\\"medications\\\":\\\"ACETAMINOPHEN TAB \\\",\\\"do...</td>\n",
       "      <td>NaN</td>\n",
       "      <td>NaN</td>\n",
       "      <td>No</td>\n",
       "      <td>WARD</td>\n",
       "      <td>91</td>\n",
       "      <td>52</td>\n",
       "      <td>67</td>\n",
       "      <td>32</td>\n",
       "      <td>96</td>\n",
       "      <td>NaN</td>\n",
       "      <td>NaN</td>\n",
       "    </tr>\n",
       "    <tr>\n",
       "      <th>347</th>\n",
       "      <td>Respiratory failure [J96.99]</td>\n",
       "      <td>99</td>\n",
       "      <td>Male</td>\n",
       "      <td>NaN</td>\n",
       "      <td>NaN</td>\n",
       "      <td>\"[\\\"Chronic cardiac disease (not hypertension)...</td>\n",
       "      <td>High Cholesterol, Benign prostatic Hyperplasia...</td>\n",
       "      <td>\"[{\\\"medications\\\":\\\"MEMANTINE\\\",\\\"dosage\\\":\\\"...</td>\n",
       "      <td>Non-smoker</td>\n",
       "      <td>NaN</td>\n",
       "      <td>No</td>\n",
       "      <td>WARD</td>\n",
       "      <td>136</td>\n",
       "      <td>77</td>\n",
       "      <td>95</td>\n",
       "      <td>32</td>\n",
       "      <td>83</td>\n",
       "      <td>1.0</td>\n",
       "      <td>2190</td>\n",
       "    </tr>\n",
       "    <tr>\n",
       "      <th>413</th>\n",
       "      <td>Hypoxia [R09.0]</td>\n",
       "      <td>98</td>\n",
       "      <td>Male</td>\n",
       "      <td>NaN</td>\n",
       "      <td>NaN</td>\n",
       "      <td>\"[\\\"Other\\\"]\"</td>\n",
       "      <td>Anxiety, Depressed, GERD (gastroesophageal ref...</td>\n",
       "      <td>\"[{\\\"medications\\\":\\\"TYLENOL EXTRA STRENGTH\\\",...</td>\n",
       "      <td>NaN</td>\n",
       "      <td>NaN</td>\n",
       "      <td>No</td>\n",
       "      <td>WARD</td>\n",
       "      <td>154</td>\n",
       "      <td>79</td>\n",
       "      <td>82</td>\n",
       "      <td>18</td>\n",
       "      <td>92</td>\n",
       "      <td>NaN</td>\n",
       "      <td>NaN</td>\n",
       "    </tr>\n",
       "    <tr>\n",
       "      <th>390</th>\n",
       "      <td>Pneumonia [J18.9]</td>\n",
       "      <td>98</td>\n",
       "      <td>Female</td>\n",
       "      <td>NaN</td>\n",
       "      <td>NaN</td>\n",
       "      <td>\"[\\\"Hypertension\\\",\\\"Chronic renal\\\",\\\"Other\\\"]\"</td>\n",
       "      <td>Insomnia, Iron deficiency anemia, Kyphoscolios...</td>\n",
       "      <td>\"[{\\\"medications\\\":\\\"amLODIPine (NORVASC)\\\",\\\"...</td>\n",
       "      <td>NaN</td>\n",
       "      <td>NaN</td>\n",
       "      <td>No</td>\n",
       "      <td>WARD</td>\n",
       "      <td>138</td>\n",
       "      <td>63</td>\n",
       "      <td>82</td>\n",
       "      <td>20</td>\n",
       "      <td>94</td>\n",
       "      <td>NaN</td>\n",
       "      <td>NaN</td>\n",
       "    </tr>\n",
       "    <tr>\n",
       "      <th>475</th>\n",
       "      <td>Hypoxia [R09.0]</td>\n",
       "      <td>97</td>\n",
       "      <td>Female</td>\n",
       "      <td>NaN</td>\n",
       "      <td>68.8</td>\n",
       "      <td>\"[\\\"Hypertension\\\",\\\"Asthma\\\",\\\"Dementia [any ...</td>\n",
       "      <td>Anemia, Hypernatremia, SBO (small bowel obstru...</td>\n",
       "      <td>\"[{\\\"medications\\\":\\\"TYLENOL EXTRA STRENGTH\\\",...</td>\n",
       "      <td>NaN</td>\n",
       "      <td>NaN</td>\n",
       "      <td>No</td>\n",
       "      <td>WARD</td>\n",
       "      <td>145</td>\n",
       "      <td>76</td>\n",
       "      <td>112</td>\n",
       "      <td>32</td>\n",
       "      <td>93</td>\n",
       "      <td>1.3</td>\n",
       "      <td>NaN</td>\n",
       "    </tr>\n",
       "  </tbody>\n",
       "</table>\n",
       "</div>"
      ],
      "text/plain": [
       "             reason_for_admission  age     sex  height  weight  \\\n",
       "373             Pneumonia [J18.9]  100    Male   167.0    59.0   \n",
       "347  Respiratory failure [J96.99]   99    Male     NaN     NaN   \n",
       "413               Hypoxia [R09.0]   98    Male     NaN     NaN   \n",
       "390             Pneumonia [J18.9]   98  Female     NaN     NaN   \n",
       "475               Hypoxia [R09.0]   97  Female     NaN    68.8   \n",
       "\n",
       "                                         comorbidities  \\\n",
       "373  \"[\\\"Chronic cardiac disease (not hypertension)...   \n",
       "347  \"[\\\"Chronic cardiac disease (not hypertension)...   \n",
       "413                                      \"[\\\"Other\\\"]\"   \n",
       "390   \"[\\\"Hypertension\\\",\\\"Chronic renal\\\",\\\"Other\\\"]\"   \n",
       "475  \"[\\\"Hypertension\\\",\\\"Asthma\\\",\\\"Dementia [any ...   \n",
       "\n",
       "                                   comorbidities_other  \\\n",
       "373                        Hypocholesteremia, GI bleed   \n",
       "347  High Cholesterol, Benign prostatic Hyperplasia...   \n",
       "413  Anxiety, Depressed, GERD (gastroesophageal ref...   \n",
       "390  Insomnia, Iron deficiency anemia, Kyphoscolios...   \n",
       "475  Anemia, Hypernatremia, SBO (small bowel obstru...   \n",
       "\n",
       "                                           medications smoking_history  \\\n",
       "373  \"[{\\\"medications\\\":\\\"ACETAMINOPHEN TAB \\\",\\\"do...             NaN   \n",
       "347  \"[{\\\"medications\\\":\\\"MEMANTINE\\\",\\\"dosage\\\":\\\"...      Non-smoker   \n",
       "413  \"[{\\\"medications\\\":\\\"TYLENOL EXTRA STRENGTH\\\",...             NaN   \n",
       "390  \"[{\\\"medications\\\":\\\"amLODIPine (NORVASC)\\\",\\\"...             NaN   \n",
       "475  \"[{\\\"medications\\\":\\\"TYLENOL EXTRA STRENGTH\\\",...             NaN   \n",
       "\n",
       "     year_they_quit previous_er_visit_within_14_days admission_disposition  \\\n",
       "373             NaN                               No                  WARD   \n",
       "347             NaN                               No                  WARD   \n",
       "413             NaN                               No                  WARD   \n",
       "390             NaN                               No                  WARD   \n",
       "475             NaN                               No                  WARD   \n",
       "\n",
       "     systolic_blood_pressure  diastolic_blood_pressure  heart_rate  \\\n",
       "373                       91                        52          67   \n",
       "347                      136                        77          95   \n",
       "413                      154                        79          82   \n",
       "390                      138                        63          82   \n",
       "475                      145                        76         112   \n",
       "\n",
       "     respiratory_rate  oxygen_saturation  inr d_dimer  \n",
       "373                32                 96  NaN     NaN  \n",
       "347                32                 83  1.0    2190  \n",
       "413                18                 92  NaN     NaN  \n",
       "390                20                 94  NaN     NaN  \n",
       "475                32                 93  1.3     NaN  "
      ]
     },
     "execution_count": 1361,
     "metadata": {},
     "output_type": "execute_result"
    }
   ],
   "source": [
    "df.sort_values(by=\"age\", ascending=False).head()"
   ]
  },
  {
   "cell_type": "code",
   "execution_count": 1362,
   "id": "1aedf0c4-529a-4792-a310-ef03e44831ab",
   "metadata": {},
   "outputs": [
    {
     "data": {
      "text/html": [
       "<div>\n",
       "<style scoped>\n",
       "    .dataframe tbody tr th:only-of-type {\n",
       "        vertical-align: middle;\n",
       "    }\n",
       "\n",
       "    .dataframe tbody tr th {\n",
       "        vertical-align: top;\n",
       "    }\n",
       "\n",
       "    .dataframe thead th {\n",
       "        text-align: right;\n",
       "    }\n",
       "</style>\n",
       "<table border=\"1\" class=\"dataframe\">\n",
       "  <thead>\n",
       "    <tr style=\"text-align: right;\">\n",
       "      <th></th>\n",
       "      <th>reason_for_admission</th>\n",
       "      <th>age</th>\n",
       "      <th>sex</th>\n",
       "      <th>height</th>\n",
       "      <th>weight</th>\n",
       "      <th>comorbidities</th>\n",
       "      <th>comorbidities_other</th>\n",
       "      <th>medications</th>\n",
       "      <th>smoking_history</th>\n",
       "      <th>year_they_quit</th>\n",
       "      <th>previous_er_visit_within_14_days</th>\n",
       "      <th>admission_disposition</th>\n",
       "      <th>systolic_blood_pressure</th>\n",
       "      <th>diastolic_blood_pressure</th>\n",
       "      <th>heart_rate</th>\n",
       "      <th>respiratory_rate</th>\n",
       "      <th>oxygen_saturation</th>\n",
       "      <th>inr</th>\n",
       "      <th>d_dimer</th>\n",
       "    </tr>\n",
       "  </thead>\n",
       "  <tbody>\n",
       "    <tr>\n",
       "      <th>362</th>\n",
       "      <td>ARDS (adult respiratory distress syndrome) [J80]</td>\n",
       "      <td>42</td>\n",
       "      <td>Male</td>\n",
       "      <td>175.0</td>\n",
       "      <td>131.5</td>\n",
       "      <td>\"[\\\"Obesity\\\"]\"</td>\n",
       "      <td>NaN</td>\n",
       "      <td>\"[{\\\"medications\\\":\\\"\\\",\\\"dosage\\\":\\\"\\\",\\\"freq...</td>\n",
       "      <td>NaN</td>\n",
       "      <td>NaN</td>\n",
       "      <td>Yes</td>\n",
       "      <td>WARD</td>\n",
       "      <td>120</td>\n",
       "      <td>86</td>\n",
       "      <td>112</td>\n",
       "      <td>26</td>\n",
       "      <td>94</td>\n",
       "      <td>NaN</td>\n",
       "      <td>1505</td>\n",
       "    </tr>\n",
       "    <tr>\n",
       "      <th>371</th>\n",
       "      <td>Acquired respiratory distress syndrome [J80]</td>\n",
       "      <td>78</td>\n",
       "      <td>Male</td>\n",
       "      <td>180.3</td>\n",
       "      <td>79.6</td>\n",
       "      <td>\"[\\\"Hypertension\\\",\\\"Chronic renal\\\",\\\"Diabete...</td>\n",
       "      <td>Hyperlipidemia</td>\n",
       "      <td>\"[{\\\"medications\\\":\\\"NORVASC\\\",\\\"dosage\\\":\\\"10...</td>\n",
       "      <td>NaN</td>\n",
       "      <td>NaN</td>\n",
       "      <td>No</td>\n",
       "      <td>ICU</td>\n",
       "      <td>156</td>\n",
       "      <td>67</td>\n",
       "      <td>90</td>\n",
       "      <td>40</td>\n",
       "      <td>86</td>\n",
       "      <td>1.2</td>\n",
       "      <td>656</td>\n",
       "    </tr>\n",
       "    <tr>\n",
       "      <th>479</th>\n",
       "      <td>Atypical pneumonia [J18.9]</td>\n",
       "      <td>52</td>\n",
       "      <td>Male</td>\n",
       "      <td>177.8</td>\n",
       "      <td>108.4</td>\n",
       "      <td>\"[\\\"Diabetes\\\",\\\"Other\\\"]\"</td>\n",
       "      <td>Dyslipidemia,</td>\n",
       "      <td>\"[{\\\"medications\\\":\\\"FORXIGA\\\",\\\"dosage\\\":\\\"10...</td>\n",
       "      <td>Non-smoker</td>\n",
       "      <td>NaN</td>\n",
       "      <td>No</td>\n",
       "      <td>WARD</td>\n",
       "      <td>120</td>\n",
       "      <td>79</td>\n",
       "      <td>120</td>\n",
       "      <td>24</td>\n",
       "      <td>95</td>\n",
       "      <td>NaN</td>\n",
       "      <td>NaN</td>\n",
       "    </tr>\n",
       "    <tr>\n",
       "      <th>487</th>\n",
       "      <td>Atypical pneumonia [J18.9]</td>\n",
       "      <td>33</td>\n",
       "      <td>Male</td>\n",
       "      <td>NaN</td>\n",
       "      <td>NaN</td>\n",
       "      <td>\"[]\"</td>\n",
       "      <td>NaN</td>\n",
       "      <td>\"[{\\\"medications\\\":\\\"\\\",\\\"dosage\\\":\\\"\\\",\\\"freq...</td>\n",
       "      <td>NaN</td>\n",
       "      <td>NaN</td>\n",
       "      <td>No</td>\n",
       "      <td>WARD</td>\n",
       "      <td>129</td>\n",
       "      <td>70</td>\n",
       "      <td>107</td>\n",
       "      <td>24</td>\n",
       "      <td>90</td>\n",
       "      <td>1.0</td>\n",
       "      <td>835</td>\n",
       "    </tr>\n",
       "    <tr>\n",
       "      <th>165</th>\n",
       "      <td>COVID-19 [U07.1]</td>\n",
       "      <td>97</td>\n",
       "      <td>Female</td>\n",
       "      <td>NaN</td>\n",
       "      <td>NaN</td>\n",
       "      <td>\"[\\\"Chronic cardiac disease (not hypertension)...</td>\n",
       "      <td>Aortic stenosis Echo Dec 2020: mod-severe AS, ...</td>\n",
       "      <td>\"[{\\\"medications\\\":\\\"NORVASC\\\",\\\"dosage\\\":\\\"10...</td>\n",
       "      <td>Non-smoker</td>\n",
       "      <td>NaN</td>\n",
       "      <td>No</td>\n",
       "      <td>WARD</td>\n",
       "      <td>89</td>\n",
       "      <td>60</td>\n",
       "      <td>88</td>\n",
       "      <td>36</td>\n",
       "      <td>98</td>\n",
       "      <td>NaN</td>\n",
       "      <td>NaN</td>\n",
       "    </tr>\n",
       "  </tbody>\n",
       "</table>\n",
       "</div>"
      ],
      "text/plain": [
       "                                 reason_for_admission  age     sex  height  \\\n",
       "362  ARDS (adult respiratory distress syndrome) [J80]   42    Male   175.0   \n",
       "371      Acquired respiratory distress syndrome [J80]   78    Male   180.3   \n",
       "479                        Atypical pneumonia [J18.9]   52    Male   177.8   \n",
       "487                        Atypical pneumonia [J18.9]   33    Male     NaN   \n",
       "165                                  COVID-19 [U07.1]   97  Female     NaN   \n",
       "\n",
       "     weight                                      comorbidities  \\\n",
       "362   131.5                                    \"[\\\"Obesity\\\"]\"   \n",
       "371    79.6  \"[\\\"Hypertension\\\",\\\"Chronic renal\\\",\\\"Diabete...   \n",
       "479   108.4                         \"[\\\"Diabetes\\\",\\\"Other\\\"]\"   \n",
       "487     NaN                                               \"[]\"   \n",
       "165     NaN  \"[\\\"Chronic cardiac disease (not hypertension)...   \n",
       "\n",
       "                                   comorbidities_other  \\\n",
       "362                                                NaN   \n",
       "371                                     Hyperlipidemia   \n",
       "479                                     Dyslipidemia,    \n",
       "487                                                NaN   \n",
       "165  Aortic stenosis Echo Dec 2020: mod-severe AS, ...   \n",
       "\n",
       "                                           medications smoking_history  \\\n",
       "362  \"[{\\\"medications\\\":\\\"\\\",\\\"dosage\\\":\\\"\\\",\\\"freq...             NaN   \n",
       "371  \"[{\\\"medications\\\":\\\"NORVASC\\\",\\\"dosage\\\":\\\"10...             NaN   \n",
       "479  \"[{\\\"medications\\\":\\\"FORXIGA\\\",\\\"dosage\\\":\\\"10...      Non-smoker   \n",
       "487  \"[{\\\"medications\\\":\\\"\\\",\\\"dosage\\\":\\\"\\\",\\\"freq...             NaN   \n",
       "165  \"[{\\\"medications\\\":\\\"NORVASC\\\",\\\"dosage\\\":\\\"10...      Non-smoker   \n",
       "\n",
       "     year_they_quit previous_er_visit_within_14_days admission_disposition  \\\n",
       "362             NaN                              Yes                  WARD   \n",
       "371             NaN                               No                   ICU   \n",
       "479             NaN                               No                  WARD   \n",
       "487             NaN                               No                  WARD   \n",
       "165             NaN                               No                  WARD   \n",
       "\n",
       "     systolic_blood_pressure  diastolic_blood_pressure  heart_rate  \\\n",
       "362                      120                        86         112   \n",
       "371                      156                        67          90   \n",
       "479                      120                        79         120   \n",
       "487                      129                        70         107   \n",
       "165                       89                        60          88   \n",
       "\n",
       "     respiratory_rate  oxygen_saturation  inr d_dimer  \n",
       "362                26                 94  NaN    1505  \n",
       "371                40                 86  1.2     656  \n",
       "479                24                 95  NaN     NaN  \n",
       "487                24                 90  1.0     835  \n",
       "165                36                 98  NaN     NaN  "
      ]
     },
     "execution_count": 1362,
     "metadata": {},
     "output_type": "execute_result"
    }
   ],
   "source": [
    "df.sort_values(by=[\"reason_for_admission\", \"age\"], ascending=[True, False]).head()"
   ]
  },
  {
   "cell_type": "markdown",
   "id": "6b561dd9-2763-438b-b7d0-1e1b93652c8b",
   "metadata": {},
   "source": [
    "#### Indexing and retrieving data"
   ]
  },
  {
   "cell_type": "code",
   "execution_count": 1363,
   "id": "c4c86162-1ff1-4476-bd84-9ef9c28485f1",
   "metadata": {},
   "outputs": [
    {
     "data": {
      "text/plain": [
       "66.0275590551181"
      ]
     },
     "execution_count": 1363,
     "metadata": {},
     "output_type": "execute_result"
    }
   ],
   "source": [
    "df[\"age\"].mean()"
   ]
  },
  {
   "cell_type": "markdown",
   "id": "d440a7a4-f177-4067-8a25-19b22525b702",
   "metadata": {},
   "source": [
    "#### Checking the amount inpatients above the age of 32 as Afib is neccessarily checked with older patients but when found with younger patients it's usually due to other heart conditions. Which would be nice to keep in mind when checking through respiratory illnesses tied with Covid or pneumonia"
   ]
  },
  {
   "cell_type": "code",
   "execution_count": 1364,
   "id": "e4a880e9-2224-4685-ae97-a0dd5c1c86e0",
   "metadata": {
    "tags": []
   },
   "outputs": [
    {
     "data": {
      "text/plain": [
       "reason_for_admission                14\n",
       "age                                 14\n",
       "sex                                 14\n",
       "height                               9\n",
       "weight                              10\n",
       "comorbidities                       14\n",
       "comorbidities_other                  7\n",
       "medications                         14\n",
       "smoking_history                      9\n",
       "year_they_quit                       0\n",
       "previous_er_visit_within_14_days    14\n",
       "admission_disposition               14\n",
       "systolic_blood_pressure             14\n",
       "diastolic_blood_pressure            14\n",
       "heart_rate                          14\n",
       "respiratory_rate                    14\n",
       "oxygen_saturation                   14\n",
       "inr                                 10\n",
       "d_dimer                              6\n",
       "dtype: int64"
      ]
     },
     "execution_count": 1364,
     "metadata": {},
     "output_type": "execute_result"
    }
   ],
   "source": [
    "df[df[\"age\"] <=32 ].count()"
   ]
  },
  {
   "cell_type": "code",
   "execution_count": 1365,
   "id": "f5d50bd8-4484-4d27-9c98-5d8d603aed34",
   "metadata": {},
   "outputs": [
    {
     "data": {
      "text/plain": [
       "161"
      ]
     },
     "execution_count": 1365,
     "metadata": {},
     "output_type": "execute_result"
    }
   ],
   "source": [
    "np.max(df[\"heart_rate\"])"
   ]
  },
  {
   "cell_type": "code",
   "execution_count": 1366,
   "id": "271981ac-5c91-4554-b7a7-8e89554947a7",
   "metadata": {},
   "outputs": [
    {
     "data": {
      "text/plain": [
       "504"
      ]
     },
     "execution_count": 1366,
     "metadata": {},
     "output_type": "execute_result"
    }
   ],
   "source": [
    "df['heart_rate'].argmax()"
   ]
  },
  {
   "cell_type": "markdown",
   "id": "b745f8fe-8a04-4aa9-9636-7bba90c8e401",
   "metadata": {},
   "source": [
    "##### So now we know which row has the max heart rate within the dataset of patient information we can check the other information for that row"
   ]
  },
  {
   "cell_type": "code",
   "execution_count": 1367,
   "id": "a8c965e5-4149-454f-9d3b-7cfac8e97fb9",
   "metadata": {
    "tags": []
   },
   "outputs": [
    {
     "data": {
      "text/plain": [
       "reason_for_admission                                                 COVID-19 [U07.1]\n",
       "age                                                                                81\n",
       "sex                                                                              Male\n",
       "height                                                                          158.0\n",
       "weight                                                                           65.0\n",
       "comorbidities                       \"[\\\"Hypertension\\\",\\\"Chronic renal\\\",\\\"Diabete...\n",
       "comorbidities_other                 GERD (gastroesophageal reflux disease), High c...\n",
       "medications                         \"[{\\\"medications\\\":\\\"SYNTHROID\\\",\\\"dosage\\\":\\\"...\n",
       "smoking_history                                                                   NaN\n",
       "year_they_quit                                                                    NaN\n",
       "previous_er_visit_within_14_days                                                  Yes\n",
       "admission_disposition                                                            WARD\n",
       "systolic_blood_pressure                                                           161\n",
       "diastolic_blood_pressure                                                           81\n",
       "heart_rate                                                                        161\n",
       "respiratory_rate                                                                   55\n",
       "oxygen_saturation                                                                  84\n",
       "inr                                                                               NaN\n",
       "d_dimer                                                                         >4000\n",
       "Name: 504, dtype: object"
      ]
     },
     "execution_count": 1367,
     "metadata": {},
     "output_type": "execute_result"
    }
   ],
   "source": [
    "Patient_0 = df.iloc[504]\n",
    "Patient_0"
   ]
  },
  {
   "cell_type": "code",
   "execution_count": 1368,
   "id": "9c6d715d-e0cf-4a12-b5fa-4ae5cf8e980a",
   "metadata": {},
   "outputs": [
    {
     "data": {
      "text/plain": [
       "444"
      ]
     },
     "execution_count": 1368,
     "metadata": {},
     "output_type": "execute_result"
    }
   ],
   "source": [
    "df['heart_rate'].argmin()"
   ]
  },
  {
   "cell_type": "code",
   "execution_count": 1369,
   "id": "39c38c7c-6c9f-4736-b22c-e20a7eb90664",
   "metadata": {
    "tags": []
   },
   "outputs": [
    {
     "data": {
      "text/plain": [
       "reason_for_admission                                                Pneumonia [J18.9]\n",
       "age                                                                                79\n",
       "sex                                                                              Male\n",
       "height                                                                            NaN\n",
       "weight                                                                            NaN\n",
       "comorbidities                       \"[\\\"Chronic cardiac disease (not hypertension)...\n",
       "comorbidities_other                 Atrial fibrillation, Coronary artery disease i...\n",
       "medications                         \"[{\\\"medications\\\":\\\"ELIQUIS\\\",\\\"dosage\\\":\\\"5\\...\n",
       "smoking_history                                                            Non-smoker\n",
       "year_they_quit                                                                    NaN\n",
       "previous_er_visit_within_14_days                                                   No\n",
       "admission_disposition                                                            WARD\n",
       "systolic_blood_pressure                                                            87\n",
       "diastolic_blood_pressure                                                           66\n",
       "heart_rate                                                                         41\n",
       "respiratory_rate                                                                   18\n",
       "oxygen_saturation                                                                 100\n",
       "inr                                                                               2.2\n",
       "d_dimer                                                                           NaN\n",
       "Name: 444, dtype: object"
      ]
     },
     "execution_count": 1369,
     "metadata": {},
     "output_type": "execute_result"
    }
   ],
   "source": [
    "Patient_1 = df.iloc[444]\n",
    "Patient_1"
   ]
  },
  {
   "cell_type": "code",
   "execution_count": 1370,
   "id": "cc76c927-f183-40dd-81c2-f1f861eec9f2",
   "metadata": {
    "tags": []
   },
   "outputs": [
    {
     "data": {
      "text/plain": [
       "reason_for_admission                                                Pneumonia [J18.9]\n",
       "age                                                                                47\n",
       "sex                                                                              Male\n",
       "height                                                                          185.4\n",
       "weight                                                                           74.8\n",
       "comorbidities                             \"[\\\"Hypertension\\\",\\\"Diabetes\\\",\\\"Other\\\"]\"\n",
       "comorbidities_other                                               High cholesterol\\t \n",
       "medications                         \"[{\\\"medications\\\":\\\"NORVASC\\\",\\\"dosage\\\":\\\"10...\n",
       "smoking_history                                                            Non-smoker\n",
       "year_they_quit                                                                    NaN\n",
       "previous_er_visit_within_14_days                                                   No\n",
       "admission_disposition                                                            WARD\n",
       "systolic_blood_pressure                                                           112\n",
       "diastolic_blood_pressure                                                           81\n",
       "heart_rate                                                                        117\n",
       "respiratory_rate                                                                   20\n",
       "oxygen_saturation                                                                  96\n",
       "inr                                                                               NaN\n",
       "d_dimer                                                                          2414\n",
       "Name: 305, dtype: object"
      ]
     },
     "execution_count": 1370,
     "metadata": {},
     "output_type": "execute_result"
    }
   ],
   "source": [
    "Patient_2 = df.iloc[305]\n",
    "Patient_2"
   ]
  },
  {
   "cell_type": "code",
   "execution_count": 1371,
   "id": "4ac0b3e0-014b-43dc-95f9-59e8afd30b2f",
   "metadata": {
    "tags": []
   },
   "outputs": [
    {
     "data": {
      "text/plain": [
       "reason_for_admission                                                 COVID-19 [U07.1]\n",
       "age                                                                                74\n",
       "sex                                                                            Female\n",
       "height                                                                          154.0\n",
       "weight                                                                           82.1\n",
       "comorbidities                                                \"[\\\"Asthma\\\",\\\"Other\\\"]\"\n",
       "comorbidities_other                                        Peptic ulcer disease, GERD\n",
       "medications                         \"[{\\\"medications\\\":\\\"PANTOPRAZOLE\\\",\\\"dosage\\\"...\n",
       "smoking_history                                                                   NaN\n",
       "year_they_quit                                                                    NaN\n",
       "previous_er_visit_within_14_days                                                   No\n",
       "admission_disposition                                                            WARD\n",
       "systolic_blood_pressure                                                           113\n",
       "diastolic_blood_pressure                                                           71\n",
       "heart_rate                                                                         84\n",
       "respiratory_rate                                                                   20\n",
       "oxygen_saturation                                                                  92\n",
       "inr                                                                               1.1\n",
       "d_dimer                                                                          1479\n",
       "Name: 112, dtype: object"
      ]
     },
     "execution_count": 1371,
     "metadata": {},
     "output_type": "execute_result"
    }
   ],
   "source": [
    "Patient_3 = df.iloc[112]\n",
    "Patient_3"
   ]
  },
  {
   "cell_type": "code",
   "execution_count": 1372,
   "id": "f9accba3-e9c3-443b-958e-ad0632a0d5a7",
   "metadata": {
    "tags": []
   },
   "outputs": [
    {
     "data": {
      "text/plain": [
       "reason_for_admission                                                Pneumonia [J18.9]\n",
       "age                                                                                34\n",
       "sex                                                                              Male\n",
       "height                                                                            NaN\n",
       "weight                                                                            NaN\n",
       "comorbidities                                                                    \"[]\"\n",
       "comorbidities_other                                                               NaN\n",
       "medications                         \"[{\\\"medications\\\":\\\"\\\",\\\"dosage\\\":\\\"\\\",\\\"freq...\n",
       "smoking_history                                                                   NaN\n",
       "year_they_quit                                                                    NaN\n",
       "previous_er_visit_within_14_days                                                   No\n",
       "admission_disposition                                                            WARD\n",
       "systolic_blood_pressure                                                           125\n",
       "diastolic_blood_pressure                                                           70\n",
       "heart_rate                                                                        102\n",
       "respiratory_rate                                                                   18\n",
       "oxygen_saturation                                                                  96\n",
       "inr                                                                               NaN\n",
       "d_dimer                                                                           NaN\n",
       "Name: 53, dtype: object"
      ]
     },
     "execution_count": 1372,
     "metadata": {},
     "output_type": "execute_result"
    }
   ],
   "source": [
    "Patient_4 = df.iloc[53]\n",
    "Patient_4"
   ]
  },
  {
   "cell_type": "code",
   "execution_count": 1373,
   "id": "ef16f9d4-c8f2-48d8-97d4-ad155ea83894",
   "metadata": {
    "tags": []
   },
   "outputs": [
    {
     "data": {
      "text/plain": [
       "reason_for_admission                                                 COVID-19 [U07.1]\n",
       "age                                                                                50\n",
       "sex                                                                              Male\n",
       "height                                                                          188.0\n",
       "weight                                                                           91.1\n",
       "comorbidities                                                                    \"[]\"\n",
       "comorbidities_other                                                               NaN\n",
       "medications                         \"[{\\\"medications\\\":\\\"\\\",\\\"dosage\\\":\\\"\\\",\\\"freq...\n",
       "smoking_history                                                                   NaN\n",
       "year_they_quit                                                                    NaN\n",
       "previous_er_visit_within_14_days                                                   No\n",
       "admission_disposition                                                            WARD\n",
       "systolic_blood_pressure                                                           149\n",
       "diastolic_blood_pressure                                                          100\n",
       "heart_rate                                                                        130\n",
       "respiratory_rate                                                                   20\n",
       "oxygen_saturation                                                                  94\n",
       "inr                                                                               NaN\n",
       "d_dimer                                                                          <270\n",
       "Name: 6, dtype: object"
      ]
     },
     "execution_count": 1373,
     "metadata": {},
     "output_type": "execute_result"
    }
   ],
   "source": [
    "Patient_5 = df.iloc[6]\n",
    "Patient_5"
   ]
  },
  {
   "cell_type": "code",
   "execution_count": 1374,
   "id": "f8c48075-475f-454c-adc3-f636d451deb0",
   "metadata": {},
   "outputs": [],
   "source": [
    "Patient_6 = df.iloc[110]"
   ]
  },
  {
   "cell_type": "code",
   "execution_count": 1375,
   "id": "7b82157d-ebc3-402b-9dc5-6ba11de7ca02",
   "metadata": {},
   "outputs": [],
   "source": [
    "Patient_7 = df.iloc[201]"
   ]
  },
  {
   "cell_type": "code",
   "execution_count": 1376,
   "id": "cf1d25f2-690b-41e5-8898-b0f60c7bddb5",
   "metadata": {},
   "outputs": [],
   "source": [
    "Patient_8 = df.iloc[93]"
   ]
  },
  {
   "cell_type": "code",
   "execution_count": 1377,
   "id": "f919dad6-4a42-4a53-bd4b-1b4e6f2f81db",
   "metadata": {},
   "outputs": [],
   "source": [
    "Patient_9 = df.iloc[84]"
   ]
  },
  {
   "cell_type": "code",
   "execution_count": 1378,
   "id": "aa2265cf-c905-4ea9-bb33-e6a3e92d8402",
   "metadata": {},
   "outputs": [],
   "source": [
    "Patient_10 = df.iloc[150]"
   ]
  },
  {
   "cell_type": "code",
   "execution_count": 1379,
   "id": "6dfc9b92-2c10-4b35-ab6b-9a513706d148",
   "metadata": {},
   "outputs": [],
   "source": [
    "Patient_11 = df.iloc[300]"
   ]
  },
  {
   "cell_type": "code",
   "execution_count": 1380,
   "id": "c9134be7-c94f-448f-9659-f6fb0e50a69a",
   "metadata": {},
   "outputs": [],
   "source": [
    "Patient_12 = df.iloc[26]"
   ]
  },
  {
   "cell_type": "code",
   "execution_count": 1381,
   "id": "2f5f6633-49bb-4bd6-a3d8-b77514bb62a1",
   "metadata": {},
   "outputs": [],
   "source": [
    "Patient_13 = df.iloc[14]"
   ]
  },
  {
   "cell_type": "code",
   "execution_count": 1382,
   "id": "e6143b8c-a604-4f97-96a1-f89f875d5237",
   "metadata": {},
   "outputs": [],
   "source": [
    "Patient_14 = df.iloc[299]"
   ]
  },
  {
   "cell_type": "code",
   "execution_count": 1383,
   "id": "e7cfb691-f53c-43c5-8241-e3c2961f8559",
   "metadata": {},
   "outputs": [],
   "source": [
    "Patient_15 = df.iloc[71]"
   ]
  },
  {
   "cell_type": "code",
   "execution_count": 1384,
   "id": "2423d48a-c77c-4195-bbff-5b25b9f5ca2c",
   "metadata": {},
   "outputs": [],
   "source": [
    "Patient_16 = df.iloc[55]"
   ]
  },
  {
   "cell_type": "code",
   "execution_count": 1385,
   "id": "85fc2e50-bae0-41af-b405-a91b6e92e3f9",
   "metadata": {},
   "outputs": [],
   "source": [
    "Patient_17 = df.iloc[421]"
   ]
  },
  {
   "cell_type": "code",
   "execution_count": 1386,
   "id": "35c2a3dd-e2c0-4afc-9752-1295c85d2c48",
   "metadata": {},
   "outputs": [],
   "source": [
    "Patient_18 = df.iloc[507]"
   ]
  },
  {
   "cell_type": "code",
   "execution_count": 1387,
   "id": "bfd351ee-2d10-4ec5-b635-c70761d5be74",
   "metadata": {},
   "outputs": [],
   "source": [
    "Patient_19 = df.iloc[476]"
   ]
  },
  {
   "cell_type": "code",
   "execution_count": 1388,
   "id": "36e89571-cdcc-4c0b-ab92-fe8eba0c3eb1",
   "metadata": {},
   "outputs": [],
   "source": [
    "Patient_20 = df.iloc[500]"
   ]
  },
  {
   "cell_type": "code",
   "execution_count": 1389,
   "id": "f0a629f8-5a58-4bbb-af09-24389caba5d0",
   "metadata": {},
   "outputs": [],
   "source": [
    "Patients = Patient_0,Patient_1,Patient_2,Patient_3,Patient_4,Patient_5,Patient_6,Patient_7,Patient_8,Patient_9,Patient_10,Patient_11,Patient_12,Patient_13,Patient_14,Patient_15,Patient_16,Patient_17,Patient_18,Patient_19,Patient_20"
   ]
  },
  {
   "cell_type": "code",
   "execution_count": 1390,
   "id": "fcde65fb-ffcc-4028-b6ca-27a8e5103488",
   "metadata": {},
   "outputs": [],
   "source": [
    "Patient = pd.DataFrame(Patients)"
   ]
  },
  {
   "cell_type": "code",
   "execution_count": 1391,
   "id": "342f3a10-1fe3-4358-af6e-5f90c5c22925",
   "metadata": {},
   "outputs": [
    {
     "data": {
      "text/html": [
       "<div>\n",
       "<style scoped>\n",
       "    .dataframe tbody tr th:only-of-type {\n",
       "        vertical-align: middle;\n",
       "    }\n",
       "\n",
       "    .dataframe tbody tr th {\n",
       "        vertical-align: top;\n",
       "    }\n",
       "\n",
       "    .dataframe thead th {\n",
       "        text-align: right;\n",
       "    }\n",
       "</style>\n",
       "<table border=\"1\" class=\"dataframe\">\n",
       "  <thead>\n",
       "    <tr style=\"text-align: right;\">\n",
       "      <th></th>\n",
       "      <th>age</th>\n",
       "      <th>height</th>\n",
       "      <th>weight</th>\n",
       "      <th>year_they_quit</th>\n",
       "      <th>systolic_blood_pressure</th>\n",
       "      <th>diastolic_blood_pressure</th>\n",
       "      <th>heart_rate</th>\n",
       "      <th>respiratory_rate</th>\n",
       "      <th>oxygen_saturation</th>\n",
       "      <th>inr</th>\n",
       "    </tr>\n",
       "  </thead>\n",
       "  <tbody>\n",
       "    <tr>\n",
       "      <th>count</th>\n",
       "      <td>21.000000</td>\n",
       "      <td>11.000000</td>\n",
       "      <td>11.000000</td>\n",
       "      <td>0.0</td>\n",
       "      <td>21.000000</td>\n",
       "      <td>21.000000</td>\n",
       "      <td>21.000000</td>\n",
       "      <td>21.000000</td>\n",
       "      <td>21.000000</td>\n",
       "      <td>9.000000</td>\n",
       "    </tr>\n",
       "    <tr>\n",
       "      <th>mean</th>\n",
       "      <td>59.285714</td>\n",
       "      <td>166.509091</td>\n",
       "      <td>80.190909</td>\n",
       "      <td>NaN</td>\n",
       "      <td>126.666667</td>\n",
       "      <td>76.571429</td>\n",
       "      <td>97.761905</td>\n",
       "      <td>26.476190</td>\n",
       "      <td>92.380952</td>\n",
       "      <td>1.244444</td>\n",
       "    </tr>\n",
       "    <tr>\n",
       "      <th>std</th>\n",
       "      <td>16.081489</td>\n",
       "      <td>12.362075</td>\n",
       "      <td>24.323793</td>\n",
       "      <td>NaN</td>\n",
       "      <td>19.885506</td>\n",
       "      <td>12.812382</td>\n",
       "      <td>26.929361</td>\n",
       "      <td>9.276956</td>\n",
       "      <td>10.897138</td>\n",
       "      <td>0.400347</td>\n",
       "    </tr>\n",
       "    <tr>\n",
       "      <th>min</th>\n",
       "      <td>33.000000</td>\n",
       "      <td>154.000000</td>\n",
       "      <td>38.600000</td>\n",
       "      <td>NaN</td>\n",
       "      <td>87.000000</td>\n",
       "      <td>53.000000</td>\n",
       "      <td>41.000000</td>\n",
       "      <td>18.000000</td>\n",
       "      <td>47.000000</td>\n",
       "      <td>0.900000</td>\n",
       "    </tr>\n",
       "    <tr>\n",
       "      <th>25%</th>\n",
       "      <td>47.000000</td>\n",
       "      <td>157.000000</td>\n",
       "      <td>71.900000</td>\n",
       "      <td>NaN</td>\n",
       "      <td>115.000000</td>\n",
       "      <td>68.000000</td>\n",
       "      <td>86.000000</td>\n",
       "      <td>20.000000</td>\n",
       "      <td>94.000000</td>\n",
       "      <td>1.100000</td>\n",
       "    </tr>\n",
       "    <tr>\n",
       "      <th>50%</th>\n",
       "      <td>62.000000</td>\n",
       "      <td>160.000000</td>\n",
       "      <td>76.000000</td>\n",
       "      <td>NaN</td>\n",
       "      <td>125.000000</td>\n",
       "      <td>78.000000</td>\n",
       "      <td>102.000000</td>\n",
       "      <td>24.000000</td>\n",
       "      <td>95.000000</td>\n",
       "      <td>1.100000</td>\n",
       "    </tr>\n",
       "    <tr>\n",
       "      <th>75%</th>\n",
       "      <td>74.000000</td>\n",
       "      <td>175.150000</td>\n",
       "      <td>85.250000</td>\n",
       "      <td>NaN</td>\n",
       "      <td>137.000000</td>\n",
       "      <td>82.000000</td>\n",
       "      <td>109.000000</td>\n",
       "      <td>28.000000</td>\n",
       "      <td>96.000000</td>\n",
       "      <td>1.200000</td>\n",
       "    </tr>\n",
       "    <tr>\n",
       "      <th>max</th>\n",
       "      <td>81.000000</td>\n",
       "      <td>188.000000</td>\n",
       "      <td>140.000000</td>\n",
       "      <td>NaN</td>\n",
       "      <td>175.000000</td>\n",
       "      <td>101.000000</td>\n",
       "      <td>161.000000</td>\n",
       "      <td>55.000000</td>\n",
       "      <td>100.000000</td>\n",
       "      <td>2.200000</td>\n",
       "    </tr>\n",
       "  </tbody>\n",
       "</table>\n",
       "</div>"
      ],
      "text/plain": [
       "             age      height      weight  year_they_quit  \\\n",
       "count  21.000000   11.000000   11.000000             0.0   \n",
       "mean   59.285714  166.509091   80.190909             NaN   \n",
       "std    16.081489   12.362075   24.323793             NaN   \n",
       "min    33.000000  154.000000   38.600000             NaN   \n",
       "25%    47.000000  157.000000   71.900000             NaN   \n",
       "50%    62.000000  160.000000   76.000000             NaN   \n",
       "75%    74.000000  175.150000   85.250000             NaN   \n",
       "max    81.000000  188.000000  140.000000             NaN   \n",
       "\n",
       "       systolic_blood_pressure  diastolic_blood_pressure  heart_rate  \\\n",
       "count                21.000000                 21.000000   21.000000   \n",
       "mean                126.666667                 76.571429   97.761905   \n",
       "std                  19.885506                 12.812382   26.929361   \n",
       "min                  87.000000                 53.000000   41.000000   \n",
       "25%                 115.000000                 68.000000   86.000000   \n",
       "50%                 125.000000                 78.000000  102.000000   \n",
       "75%                 137.000000                 82.000000  109.000000   \n",
       "max                 175.000000                101.000000  161.000000   \n",
       "\n",
       "       respiratory_rate  oxygen_saturation       inr  \n",
       "count         21.000000          21.000000  9.000000  \n",
       "mean          26.476190          92.380952  1.244444  \n",
       "std            9.276956          10.897138  0.400347  \n",
       "min           18.000000          47.000000  0.900000  \n",
       "25%           20.000000          94.000000  1.100000  \n",
       "50%           24.000000          95.000000  1.100000  \n",
       "75%           28.000000          96.000000  1.200000  \n",
       "max           55.000000         100.000000  2.200000  "
      ]
     },
     "execution_count": 1391,
     "metadata": {},
     "output_type": "execute_result"
    }
   ],
   "source": [
    "Patient.describe()"
   ]
  },
  {
   "cell_type": "markdown",
   "id": "1964cd3f-8997-43e7-8a50-91e79d26a606",
   "metadata": {},
   "source": [
    "##### Making the Correlation Table and Heatmap:"
   ]
  },
  {
   "cell_type": "code",
   "execution_count": 1392,
   "id": "d395e5ec-4721-4073-839d-cdd72eb7db9f",
   "metadata": {},
   "outputs": [
    {
     "data": {
      "text/html": [
       "<div>\n",
       "<style scoped>\n",
       "    .dataframe tbody tr th:only-of-type {\n",
       "        vertical-align: middle;\n",
       "    }\n",
       "\n",
       "    .dataframe tbody tr th {\n",
       "        vertical-align: top;\n",
       "    }\n",
       "\n",
       "    .dataframe thead th {\n",
       "        text-align: right;\n",
       "    }\n",
       "</style>\n",
       "<table border=\"1\" class=\"dataframe\">\n",
       "  <thead>\n",
       "    <tr style=\"text-align: right;\">\n",
       "      <th></th>\n",
       "      <th>age</th>\n",
       "      <th>height</th>\n",
       "      <th>weight</th>\n",
       "      <th>year_they_quit</th>\n",
       "      <th>systolic_blood_pressure</th>\n",
       "      <th>diastolic_blood_pressure</th>\n",
       "      <th>heart_rate</th>\n",
       "      <th>respiratory_rate</th>\n",
       "      <th>oxygen_saturation</th>\n",
       "      <th>inr</th>\n",
       "    </tr>\n",
       "  </thead>\n",
       "  <tbody>\n",
       "    <tr>\n",
       "      <th>age</th>\n",
       "      <td>1.000000</td>\n",
       "      <td>-0.598062</td>\n",
       "      <td>-0.498500</td>\n",
       "      <td>NaN</td>\n",
       "      <td>0.122894</td>\n",
       "      <td>-0.091590</td>\n",
       "      <td>-0.223820</td>\n",
       "      <td>-0.024753</td>\n",
       "      <td>-0.000082</td>\n",
       "      <td>0.526422</td>\n",
       "    </tr>\n",
       "    <tr>\n",
       "      <th>height</th>\n",
       "      <td>-0.598062</td>\n",
       "      <td>1.000000</td>\n",
       "      <td>0.352217</td>\n",
       "      <td>NaN</td>\n",
       "      <td>-0.144020</td>\n",
       "      <td>0.330507</td>\n",
       "      <td>0.281036</td>\n",
       "      <td>-0.343438</td>\n",
       "      <td>0.358768</td>\n",
       "      <td>0.116008</td>\n",
       "    </tr>\n",
       "    <tr>\n",
       "      <th>weight</th>\n",
       "      <td>-0.498500</td>\n",
       "      <td>0.352217</td>\n",
       "      <td>1.000000</td>\n",
       "      <td>NaN</td>\n",
       "      <td>-0.261502</td>\n",
       "      <td>-0.133254</td>\n",
       "      <td>0.011735</td>\n",
       "      <td>-0.196460</td>\n",
       "      <td>0.113886</td>\n",
       "      <td>-0.137838</td>\n",
       "    </tr>\n",
       "    <tr>\n",
       "      <th>year_they_quit</th>\n",
       "      <td>NaN</td>\n",
       "      <td>NaN</td>\n",
       "      <td>NaN</td>\n",
       "      <td>NaN</td>\n",
       "      <td>NaN</td>\n",
       "      <td>NaN</td>\n",
       "      <td>NaN</td>\n",
       "      <td>NaN</td>\n",
       "      <td>NaN</td>\n",
       "      <td>NaN</td>\n",
       "    </tr>\n",
       "    <tr>\n",
       "      <th>systolic_blood_pressure</th>\n",
       "      <td>0.122894</td>\n",
       "      <td>-0.144020</td>\n",
       "      <td>-0.261502</td>\n",
       "      <td>NaN</td>\n",
       "      <td>1.000000</td>\n",
       "      <td>0.545567</td>\n",
       "      <td>0.368749</td>\n",
       "      <td>0.177077</td>\n",
       "      <td>-0.015075</td>\n",
       "      <td>-0.624702</td>\n",
       "    </tr>\n",
       "    <tr>\n",
       "      <th>diastolic_blood_pressure</th>\n",
       "      <td>-0.091590</td>\n",
       "      <td>0.330507</td>\n",
       "      <td>-0.133254</td>\n",
       "      <td>NaN</td>\n",
       "      <td>0.545567</td>\n",
       "      <td>1.000000</td>\n",
       "      <td>0.369368</td>\n",
       "      <td>-0.188337</td>\n",
       "      <td>0.397666</td>\n",
       "      <td>-0.167682</td>\n",
       "    </tr>\n",
       "    <tr>\n",
       "      <th>heart_rate</th>\n",
       "      <td>-0.223820</td>\n",
       "      <td>0.281036</td>\n",
       "      <td>0.011735</td>\n",
       "      <td>NaN</td>\n",
       "      <td>0.368749</td>\n",
       "      <td>0.369368</td>\n",
       "      <td>1.000000</td>\n",
       "      <td>0.491825</td>\n",
       "      <td>0.247042</td>\n",
       "      <td>-0.501360</td>\n",
       "    </tr>\n",
       "    <tr>\n",
       "      <th>respiratory_rate</th>\n",
       "      <td>-0.024753</td>\n",
       "      <td>-0.343438</td>\n",
       "      <td>-0.196460</td>\n",
       "      <td>NaN</td>\n",
       "      <td>0.177077</td>\n",
       "      <td>-0.188337</td>\n",
       "      <td>0.491825</td>\n",
       "      <td>1.000000</td>\n",
       "      <td>-0.429711</td>\n",
       "      <td>-0.578117</td>\n",
       "    </tr>\n",
       "    <tr>\n",
       "      <th>oxygen_saturation</th>\n",
       "      <td>-0.000082</td>\n",
       "      <td>0.358768</td>\n",
       "      <td>0.113886</td>\n",
       "      <td>NaN</td>\n",
       "      <td>-0.015075</td>\n",
       "      <td>0.397666</td>\n",
       "      <td>0.247042</td>\n",
       "      <td>-0.429711</td>\n",
       "      <td>1.000000</td>\n",
       "      <td>0.401418</td>\n",
       "    </tr>\n",
       "    <tr>\n",
       "      <th>inr</th>\n",
       "      <td>0.526422</td>\n",
       "      <td>0.116008</td>\n",
       "      <td>-0.137838</td>\n",
       "      <td>NaN</td>\n",
       "      <td>-0.624702</td>\n",
       "      <td>-0.167682</td>\n",
       "      <td>-0.501360</td>\n",
       "      <td>-0.578117</td>\n",
       "      <td>0.401418</td>\n",
       "      <td>1.000000</td>\n",
       "    </tr>\n",
       "  </tbody>\n",
       "</table>\n",
       "</div>"
      ],
      "text/plain": [
       "                               age    height    weight  year_they_quit  \\\n",
       "age                       1.000000 -0.598062 -0.498500             NaN   \n",
       "height                   -0.598062  1.000000  0.352217             NaN   \n",
       "weight                   -0.498500  0.352217  1.000000             NaN   \n",
       "year_they_quit                 NaN       NaN       NaN             NaN   \n",
       "systolic_blood_pressure   0.122894 -0.144020 -0.261502             NaN   \n",
       "diastolic_blood_pressure -0.091590  0.330507 -0.133254             NaN   \n",
       "heart_rate               -0.223820  0.281036  0.011735             NaN   \n",
       "respiratory_rate         -0.024753 -0.343438 -0.196460             NaN   \n",
       "oxygen_saturation        -0.000082  0.358768  0.113886             NaN   \n",
       "inr                       0.526422  0.116008 -0.137838             NaN   \n",
       "\n",
       "                          systolic_blood_pressure  diastolic_blood_pressure  \\\n",
       "age                                      0.122894                 -0.091590   \n",
       "height                                  -0.144020                  0.330507   \n",
       "weight                                  -0.261502                 -0.133254   \n",
       "year_they_quit                                NaN                       NaN   \n",
       "systolic_blood_pressure                  1.000000                  0.545567   \n",
       "diastolic_blood_pressure                 0.545567                  1.000000   \n",
       "heart_rate                               0.368749                  0.369368   \n",
       "respiratory_rate                         0.177077                 -0.188337   \n",
       "oxygen_saturation                       -0.015075                  0.397666   \n",
       "inr                                     -0.624702                 -0.167682   \n",
       "\n",
       "                          heart_rate  respiratory_rate  oxygen_saturation  \\\n",
       "age                        -0.223820         -0.024753          -0.000082   \n",
       "height                      0.281036         -0.343438           0.358768   \n",
       "weight                      0.011735         -0.196460           0.113886   \n",
       "year_they_quit                   NaN               NaN                NaN   \n",
       "systolic_blood_pressure     0.368749          0.177077          -0.015075   \n",
       "diastolic_blood_pressure    0.369368         -0.188337           0.397666   \n",
       "heart_rate                  1.000000          0.491825           0.247042   \n",
       "respiratory_rate            0.491825          1.000000          -0.429711   \n",
       "oxygen_saturation           0.247042         -0.429711           1.000000   \n",
       "inr                        -0.501360         -0.578117           0.401418   \n",
       "\n",
       "                               inr  \n",
       "age                       0.526422  \n",
       "height                    0.116008  \n",
       "weight                   -0.137838  \n",
       "year_they_quit                 NaN  \n",
       "systolic_blood_pressure  -0.624702  \n",
       "diastolic_blood_pressure -0.167682  \n",
       "heart_rate               -0.501360  \n",
       "respiratory_rate         -0.578117  \n",
       "oxygen_saturation         0.401418  \n",
       "inr                       1.000000  "
      ]
     },
     "execution_count": 1392,
     "metadata": {},
     "output_type": "execute_result"
    }
   ],
   "source": [
    "Patient.corr()"
   ]
  },
  {
   "cell_type": "markdown",
   "id": "363579b8-c3d9-49bd-a5fc-37b5c7083472",
   "metadata": {},
   "source": [
    "##### Heatmap"
   ]
  },
  {
   "cell_type": "code",
   "execution_count": 1393,
   "id": "1e97f637-271f-41b5-afe4-83ea884cc0cb",
   "metadata": {},
   "outputs": [
    {
     "data": {
      "image/png": "[encoded data removed]",
      "text/plain": [
       "<Figure size 1080x720 with 2 Axes>"
      ]
     },
     "metadata": {
      "needs_background": "light"
     },
     "output_type": "display_data"
    }
   ],
   "source": [
    "fig=plt.figure(figsize=(15,10))\n",
    "heat_map=Patient[['reason_for_admission','medications','age','height','weight','year_they_quit','systolic_blood_pressure','diastolic_blood_pressure','heart_rate','respiratory_rate','oxygen_saturation','inr']].corr(method='pearson')\n",
    "cols=['reason_for_admission','medications','age','height','weight','year_they_quit','systolic_blood_pressure','diastolic_blood_pressure','heart_rate','respiratory_rate','oxygen_saturation','inr']\n",
    "axis=sns.heatmap(heat_map, annot=True, xticklabels=cols, yticklabels=cols )"
   ]
  },
  {
   "cell_type": "markdown",
   "id": "0efc52ba-7e89-461b-9b13-64d5150ee187",
   "metadata": {},
   "source": [
    "##### Getting Distributions:"
   ]
  },
  {
   "cell_type": "code",
   "execution_count": 1394,
   "id": "ba055e43-e512-4845-868b-004cd79df9f7",
   "metadata": {},
   "outputs": [
    {
     "data": {
      "text/html": [
       "<div>\n",
       "<style scoped>\n",
       "    .dataframe tbody tr th:only-of-type {\n",
       "        vertical-align: middle;\n",
       "    }\n",
       "\n",
       "    .dataframe tbody tr th {\n",
       "        vertical-align: top;\n",
       "    }\n",
       "\n",
       "    .dataframe thead th {\n",
       "        text-align: right;\n",
       "    }\n",
       "</style>\n",
       "<table border=\"1\" class=\"dataframe\">\n",
       "  <thead>\n",
       "    <tr style=\"text-align: right;\">\n",
       "      <th></th>\n",
       "      <th>age</th>\n",
       "      <th>height</th>\n",
       "      <th>weight</th>\n",
       "      <th>year_they_quit</th>\n",
       "      <th>systolic_blood_pressure</th>\n",
       "      <th>diastolic_blood_pressure</th>\n",
       "      <th>heart_rate</th>\n",
       "      <th>respiratory_rate</th>\n",
       "      <th>oxygen_saturation</th>\n",
       "      <th>inr</th>\n",
       "    </tr>\n",
       "  </thead>\n",
       "  <tbody>\n",
       "    <tr>\n",
       "      <th>count</th>\n",
       "      <td>21.000000</td>\n",
       "      <td>11.000000</td>\n",
       "      <td>11.000000</td>\n",
       "      <td>0.0</td>\n",
       "      <td>21.000000</td>\n",
       "      <td>21.000000</td>\n",
       "      <td>21.000000</td>\n",
       "      <td>21.000000</td>\n",
       "      <td>21.000000</td>\n",
       "      <td>9.000000</td>\n",
       "    </tr>\n",
       "    <tr>\n",
       "      <th>mean</th>\n",
       "      <td>59.285714</td>\n",
       "      <td>166.509091</td>\n",
       "      <td>80.190909</td>\n",
       "      <td>NaN</td>\n",
       "      <td>126.666667</td>\n",
       "      <td>76.571429</td>\n",
       "      <td>97.761905</td>\n",
       "      <td>26.476190</td>\n",
       "      <td>92.380952</td>\n",
       "      <td>1.244444</td>\n",
       "    </tr>\n",
       "    <tr>\n",
       "      <th>std</th>\n",
       "      <td>16.081489</td>\n",
       "      <td>12.362075</td>\n",
       "      <td>24.323793</td>\n",
       "      <td>NaN</td>\n",
       "      <td>19.885506</td>\n",
       "      <td>12.812382</td>\n",
       "      <td>26.929361</td>\n",
       "      <td>9.276956</td>\n",
       "      <td>10.897138</td>\n",
       "      <td>0.400347</td>\n",
       "    </tr>\n",
       "    <tr>\n",
       "      <th>min</th>\n",
       "      <td>33.000000</td>\n",
       "      <td>154.000000</td>\n",
       "      <td>38.600000</td>\n",
       "      <td>NaN</td>\n",
       "      <td>87.000000</td>\n",
       "      <td>53.000000</td>\n",
       "      <td>41.000000</td>\n",
       "      <td>18.000000</td>\n",
       "      <td>47.000000</td>\n",
       "      <td>0.900000</td>\n",
       "    </tr>\n",
       "    <tr>\n",
       "      <th>25%</th>\n",
       "      <td>47.000000</td>\n",
       "      <td>157.000000</td>\n",
       "      <td>71.900000</td>\n",
       "      <td>NaN</td>\n",
       "      <td>115.000000</td>\n",
       "      <td>68.000000</td>\n",
       "      <td>86.000000</td>\n",
       "      <td>20.000000</td>\n",
       "      <td>94.000000</td>\n",
       "      <td>1.100000</td>\n",
       "    </tr>\n",
       "    <tr>\n",
       "      <th>50%</th>\n",
       "      <td>62.000000</td>\n",
       "      <td>160.000000</td>\n",
       "      <td>76.000000</td>\n",
       "      <td>NaN</td>\n",
       "      <td>125.000000</td>\n",
       "      <td>78.000000</td>\n",
       "      <td>102.000000</td>\n",
       "      <td>24.000000</td>\n",
       "      <td>95.000000</td>\n",
       "      <td>1.100000</td>\n",
       "    </tr>\n",
       "    <tr>\n",
       "      <th>75%</th>\n",
       "      <td>74.000000</td>\n",
       "      <td>175.150000</td>\n",
       "      <td>85.250000</td>\n",
       "      <td>NaN</td>\n",
       "      <td>137.000000</td>\n",
       "      <td>82.000000</td>\n",
       "      <td>109.000000</td>\n",
       "      <td>28.000000</td>\n",
       "      <td>96.000000</td>\n",
       "      <td>1.200000</td>\n",
       "    </tr>\n",
       "    <tr>\n",
       "      <th>max</th>\n",
       "      <td>81.000000</td>\n",
       "      <td>188.000000</td>\n",
       "      <td>140.000000</td>\n",
       "      <td>NaN</td>\n",
       "      <td>175.000000</td>\n",
       "      <td>101.000000</td>\n",
       "      <td>161.000000</td>\n",
       "      <td>55.000000</td>\n",
       "      <td>100.000000</td>\n",
       "      <td>2.200000</td>\n",
       "    </tr>\n",
       "  </tbody>\n",
       "</table>\n",
       "</div>"
      ],
      "text/plain": [
       "             age      height      weight  year_they_quit  \\\n",
       "count  21.000000   11.000000   11.000000             0.0   \n",
       "mean   59.285714  166.509091   80.190909             NaN   \n",
       "std    16.081489   12.362075   24.323793             NaN   \n",
       "min    33.000000  154.000000   38.600000             NaN   \n",
       "25%    47.000000  157.000000   71.900000             NaN   \n",
       "50%    62.000000  160.000000   76.000000             NaN   \n",
       "75%    74.000000  175.150000   85.250000             NaN   \n",
       "max    81.000000  188.000000  140.000000             NaN   \n",
       "\n",
       "       systolic_blood_pressure  diastolic_blood_pressure  heart_rate  \\\n",
       "count                21.000000                 21.000000   21.000000   \n",
       "mean                126.666667                 76.571429   97.761905   \n",
       "std                  19.885506                 12.812382   26.929361   \n",
       "min                  87.000000                 53.000000   41.000000   \n",
       "25%                 115.000000                 68.000000   86.000000   \n",
       "50%                 125.000000                 78.000000  102.000000   \n",
       "75%                 137.000000                 82.000000  109.000000   \n",
       "max                 175.000000                101.000000  161.000000   \n",
       "\n",
       "       respiratory_rate  oxygen_saturation       inr  \n",
       "count         21.000000          21.000000  9.000000  \n",
       "mean          26.476190          92.380952  1.244444  \n",
       "std            9.276956          10.897138  0.400347  \n",
       "min           18.000000          47.000000  0.900000  \n",
       "25%           20.000000          94.000000  1.100000  \n",
       "50%           24.000000          95.000000  1.100000  \n",
       "75%           28.000000          96.000000  1.200000  \n",
       "max           55.000000         100.000000  2.200000  "
      ]
     },
     "execution_count": 1394,
     "metadata": {},
     "output_type": "execute_result"
    }
   ],
   "source": [
    "Patient.describe()"
   ]
  },
  {
   "cell_type": "code",
   "execution_count": 1395,
   "id": "416798e8-8abd-4e01-9ac2-f1ad5c72a15f",
   "metadata": {},
   "outputs": [
    {
     "data": {
      "text/plain": [
       "<AxesSubplot:xlabel='heart_rate'>"
      ]
     },
     "execution_count": 1395,
     "metadata": {},
     "output_type": "execute_result"
    },
    {
     "data": {
      "image/png": "[encoded data removed]",
      "text/plain": [
       "<Figure size 432x288 with 1 Axes>"
      ]
     },
     "metadata": {
      "needs_background": "light"
     },
     "output_type": "display_data"
    }
   ],
   "source": [
    "Patient.groupby('heart_rate')['age'].sum().sort_values().plot(kind='bar')"
   ]
  },
  {
   "cell_type": "code",
   "execution_count": 1396,
   "id": "2b955b32-90e2-4615-8afa-ee0d13fd0f26",
   "metadata": {},
   "outputs": [
    {
     "data": {
      "text/plain": [
       "<seaborn.axisgrid.FacetGrid at 0x7fb23cd357c0>"
      ]
     },
     "execution_count": 1396,
     "metadata": {},
     "output_type": "execute_result"
    },
    {
     "data": {
      "image/png": "[encoded data removed]",
      "text/plain": [
       "<Figure size 360x360 with 1 Axes>"
      ]
     },
     "metadata": {
      "needs_background": "light"
     },
     "output_type": "display_data"
    }
   ],
   "source": [
    "sns.displot(Patient.heart_rate,color='red', bins=25,kde=True)"
   ]
  },
  {
   "cell_type": "code",
   "execution_count": 1397,
   "id": "514f021e-5d68-45b1-be3c-99951ceb7167",
   "metadata": {},
   "outputs": [
    {
     "data": {
      "text/plain": [
       "<seaborn.axisgrid.FacetGrid at 0x7fb17843c9a0>"
      ]
     },
     "execution_count": 1397,
     "metadata": {},
     "output_type": "execute_result"
    },
    {
     "data": {
      "image/png": "[encoded data removed]",
      "text/plain": [
       "<Figure size 360x360 with 1 Axes>"
      ]
     },
     "metadata": {
      "needs_background": "light"
     },
     "output_type": "display_data"
    }
   ],
   "source": [
    "sns.displot(Patient.weight ,color='green', bins=25,kde=True)"
   ]
  },
  {
   "cell_type": "code",
   "execution_count": 1398,
   "id": "36070ebc-2899-4f49-83d1-fee93cfae981",
   "metadata": {},
   "outputs": [
    {
     "data": {
      "text/plain": [
       "<seaborn.axisgrid.FacetGrid at 0x7fb179389a30>"
      ]
     },
     "execution_count": 1398,
     "metadata": {},
     "output_type": "execute_result"
    },
    {
     "data": {
      "image/png": "[encoded data removed]",
      "text/plain": [
       "<Figure size 360x360 with 1 Axes>"
      ]
     },
     "metadata": {
      "needs_background": "light"
     },
     "output_type": "display_data"
    }
   ],
   "source": [
    "sns.displot(Patient['oxygen_saturation'],color='purple', bins=25,kde=True)"
   ]
  },
  {
   "cell_type": "code",
   "execution_count": 1399,
   "id": "dc0b1527-e6b2-4b3b-a4c9-e22862bef06e",
   "metadata": {},
   "outputs": [
    {
     "data": {
      "text/plain": [
       "<seaborn.axisgrid.FacetGrid at 0x7fb2289a37f0>"
      ]
     },
     "execution_count": 1399,
     "metadata": {},
     "output_type": "execute_result"
    },
    {
     "data": {
      "image/png": "[encoded data removed]",
      "text/plain": [
       "<Figure size 360x360 with 1 Axes>"
      ]
     },
     "metadata": {
      "needs_background": "light"
     },
     "output_type": "display_data"
    }
   ],
   "source": [
    "sns.displot(Patient['systolic_blood_pressure'],color='orange', bins=25,kde=True)"
   ]
  },
  {
   "cell_type": "markdown",
   "id": "903d2f19-5465-409b-ba7f-9189aae3ae52",
   "metadata": {},
   "source": [
    "##### Forming a scattplot showcasing Age/Oxygen_Saturation in High_Chance_of_Afib vs Low_Chance_of_Afib."
   ]
  },
  {
   "cell_type": "code",
   "execution_count": 1400,
   "id": "e2034507-27d9-46a0-a862-c406175b42f1",
   "metadata": {},
   "outputs": [],
   "source": [
    "High_Chance_of_Afib = Patient.query(\"heart_rate >= 60\")\n",
    "Low_Chance_of_Afib = Patient.query(\"heart_rate <= 60\")"
   ]
  },
  {
   "cell_type": "code",
   "execution_count": 1401,
   "id": "d3428d11-3ca5-4275-8c7c-9b81d93e7982",
   "metadata": {},
   "outputs": [
    {
     "name": "stderr",
     "output_type": "stream",
     "text": [
      "*c* argument looks like a single numeric RGB or RGBA sequence, which should be avoided as value-mapping will have precedence in case its length matches with *x* & *y*.  Please use the *color* keyword-argument or provide a 2D array with a single row if you intend to specify the same RGB or RGBA value for all points.\n"
     ]
    },
    {
     "data": {
      "text/plain": [
       "<AxesSubplot:xlabel='age', ylabel='oxygen_saturation'>"
      ]
     },
     "execution_count": 1401,
     "metadata": {},
     "output_type": "execute_result"
    },
    {
     "data": {
      "image/png": "[encoded data removed]",
      "text/plain": [
       "<Figure size 432x288 with 1 Axes>"
      ]
     },
     "metadata": {
      "needs_background": "light"
     },
     "output_type": "display_data"
    }
   ],
   "source": [
    "High_Chance_of_Afib.plot.scatter(x=\"age\",y=\"oxygen_saturation\")"
   ]
  },
  {
   "cell_type": "code",
   "execution_count": 1402,
   "id": "8c398cf4-8f64-4a0f-9518-596e82d12edf",
   "metadata": {},
   "outputs": [
    {
     "data": {
      "text/plain": [
       "<AxesSubplot:xlabel='age', ylabel='oxygen_saturation'>"
      ]
     },
     "execution_count": 1402,
     "metadata": {},
     "output_type": "execute_result"
    },
    {
     "data": {
      "image/png": "[encoded data removed]",
      "text/plain": [
       "<Figure size 432x288 with 1 Axes>"
      ]
     },
     "metadata": {
      "needs_background": "light"
     },
     "output_type": "display_data"
    }
   ],
   "source": [
    "Low_Chance_of_Afib.plot.scatter(x=\"age\",y=\"oxygen_saturation\", color = 'red')"
   ]
  },
  {
   "cell_type": "code",
   "execution_count": 1403,
   "id": "e975e390-1adc-42fb-a41d-fdfc467d3224",
   "metadata": {},
   "outputs": [
    {
     "data": {
      "image/png": "[encoded data removed]",
      "text/plain": [
       "<Figure size 432x288 with 1 Axes>"
      ]
     },
     "metadata": {
      "needs_background": "light"
     },
     "output_type": "display_data"
    }
   ],
   "source": [
    "fig1 = plt.figure()\n",
    "ax1 = fig1.add_subplot(111)\n",
    "\n",
    "ax1.scatter(High_Chance_of_Afib['age'], High_Chance_of_Afib['oxygen_saturation'],s=10, c='b', marker=\"s\", label='High_Chance_of_Afib')\n",
    "ax1.scatter(Low_Chance_of_Afib['age'],Low_Chance_of_Afib['oxygen_saturation'], s=10, c='r', marker=\"o\", label='Low_Chance_of_Afib')\n",
    "plt.legend(loc='upper left');\n",
    "plt.show()"
   ]
  },
  {
   "cell_type": "markdown",
   "id": "c06b6dfe-af03-4f0e-9279-8faafeb0b095",
   "metadata": {},
   "source": [
    "##### Scattplot of systolic_blood_pressure vs Heart_rate"
   ]
  },
  {
   "cell_type": "code",
   "execution_count": 1404,
   "id": "ff5d740c-f55d-4e89-a888-5c90c6d23511",
   "metadata": {},
   "outputs": [
    {
     "data": {
      "text/plain": [
       "<AxesSubplot:xlabel='systolic_blood_pressure', ylabel='heart_rate'>"
      ]
     },
     "execution_count": 1404,
     "metadata": {},
     "output_type": "execute_result"
    },
    {
     "data": {
      "image/png": "[encoded data removed]",
      "text/plain": [
       "<Figure size 432x288 with 1 Axes>"
      ]
     },
     "metadata": {
      "needs_background": "light"
     },
     "output_type": "display_data"
    }
   ],
   "source": [
    "Patient.plot.scatter(x=\"systolic_blood_pressure\",y=\"heart_rate\", color=\"green\")"
   ]
  },
  {
   "cell_type": "markdown",
   "id": "62d24bb7-cae3-4892-bb75-d809ced84a25",
   "metadata": {},
   "source": [
    "##### Heart_Rate Boxplot"
   ]
  },
  {
   "cell_type": "code",
   "execution_count": 1405,
   "id": "68e928aa-dbc8-46f7-b1b8-c08ebcc793e0",
   "metadata": {},
   "outputs": [
    {
     "data": {
      "image/png": "[encoded data removed]",
      "text/plain": [
       "<Figure size 432x288 with 1 Axes>"
      ]
     },
     "metadata": {
      "needs_background": "light"
     },
     "output_type": "display_data"
    }
   ],
   "source": [
    "bxt = Patient.boxplot(column = 'heart_rate')\n",
    "bxt.set_title('Heart Rate Amongst 20 patients')\n",
    "bxt.grid(False)"
   ]
  },
  {
   "cell_type": "markdown",
   "id": "c9789ac8-e127-4145-8837-7b06fa47223b",
   "metadata": {},
   "source": [
    "##### Admission and comorbidities Bargraphs"
   ]
  },
  {
   "cell_type": "code",
   "execution_count": 1406,
   "id": "ba01ee6d-3a1f-400b-bc59-c1adac82052b",
   "metadata": {},
   "outputs": [
    {
     "data": {
      "text/plain": [
       "reason_for_admission\n",
       "COVID-19 [U07.1]                                  11\n",
       "Cough [R05]                                        1\n",
       "Fever [R50.9]                                      1\n",
       "Pneumonia [J18.9]                                  6\n",
       "Pneumonia due to COVID-19 virus [U07.1, J12.8]     1\n",
       "Shortness of breath [R06.0]                        1\n",
       "Name: reason_for_admission, dtype: int64"
      ]
     },
     "execution_count": 1406,
     "metadata": {},
     "output_type": "execute_result"
    }
   ],
   "source": [
    "Admission = Patient['reason_for_admission'].groupby(Patient['reason_for_admission']).count()\n",
    "Admission"
   ]
  },
  {
   "cell_type": "code",
   "execution_count": 1407,
   "id": "9f20528e-2f09-4099-8ec5-8f2b065f97e7",
   "metadata": {},
   "outputs": [
    {
     "data": {
      "text/plain": [
       "<AxesSubplot:xlabel='reason for admission', ylabel='Amount of Admissions'>"
      ]
     },
     "execution_count": 1407,
     "metadata": {},
     "output_type": "execute_result"
    },
    {
     "data": {
      "image/png": "[encoded data removed]",
      "text/plain": [
       "<Figure size 864x432 with 1 Axes>"
      ]
     },
     "metadata": {
      "needs_background": "light"
     },
     "output_type": "display_data"
    }
   ],
   "source": [
    "Medicine.sort_values(ascending=False).plot(kind=\"bar\",ylabel=\"Amount of Admissions\",xlabel='reason for admission',figsize=(12,6))"
   ]
  },
  {
   "cell_type": "code",
   "execution_count": 1408,
   "id": "d5784ee8-ac8c-4590-a1ad-86f2ec399385",
   "metadata": {},
   "outputs": [
    {
     "data": {
      "text/plain": [
       "comorbidities\n",
       "\"[\\\"Asthma\\\",\\\"Other\\\"]\"                                                                                                                         2\n",
       "\"[\\\"Chronic cardiac disease (not hypertension)\\\",\\\"Hypertension\\\",\\\"Asthma\\\",\\\"Obesity\\\",\\\"Diabetes\\\",\\\"Dementia [any etiology]\\\",\\\"Other\\\"]\"    1\n",
       "\"[\\\"Chronic cardiac disease (not hypertension)\\\",\\\"Hypertension\\\",\\\"Diabetes\\\",\\\"Other\\\"]\"                                                       1\n",
       "\"[\\\"Chronic cardiac disease (not hypertension)\\\",\\\"Hypertension\\\",\\\"Other\\\"]\"                                                                    1\n",
       "\"[\\\"Hypertension\\\",\\\"Chronic pulmonary (lung) disease\\\",\\\"Asthma\\\",\\\"Diabetes\\\",\\\"Other\\\"]\"                                                      1\n",
       "\"[\\\"Hypertension\\\",\\\"Chronic pulmonary (lung) disease\\\",\\\"Other\\\"]\"                                                                              1\n",
       "\"[\\\"Hypertension\\\",\\\"Chronic renal\\\",\\\"Diabetes\\\",\\\"Other\\\"]\"                                                                                    1\n",
       "\"[\\\"Hypertension\\\",\\\"Diabetes\\\",\\\"Other\\\"]\"                                                                                                      3\n",
       "\"[\\\"Hypertension\\\",\\\"Kidney disease\\\",\\\"Other\\\"]\"                                                                                                1\n",
       "\"[\\\"Hypertension\\\",\\\"Other\\\"]\"                                                                                                                   3\n",
       "\"[\\\"Other\\\"]\"                                                                                                                                    2\n",
       "\"[]\"                                                                                                                                             4\n",
       "Name: comorbidities, dtype: int64"
      ]
     },
     "execution_count": 1408,
     "metadata": {},
     "output_type": "execute_result"
    }
   ],
   "source": [
    "Known_Illness = Patient['comorbidities'].groupby(Patient['comorbidities']).count()\n",
    "Known_Illness"
   ]
  },
  {
   "cell_type": "code",
   "execution_count": 1409,
   "id": "19ab511f-7623-47f1-a5fd-87512e290177",
   "metadata": {},
   "outputs": [
    {
     "data": {
      "text/plain": [
       "<AxesSubplot:xlabel='Illness', ylabel='Amount of Known Illnesses'>"
      ]
     },
     "execution_count": 1409,
     "metadata": {},
     "output_type": "execute_result"
    },
    {
     "data": {
      "image/png": "[encoded data removed]",
      "text/plain": [
       "<Figure size 864x432 with 1 Axes>"
      ]
     },
     "metadata": {
      "needs_background": "light"
     },
     "output_type": "display_data"
    }
   ],
   "source": [
    "Known_Illness.sort_values(ascending=False).plot(kind=\"bar\",ylabel=\"Amount of Known Illnesses\",xlabel='Illness',figsize=(12,6))"
   ]
  },
  {
   "cell_type": "markdown",
   "id": "4000745e-1d55-4b8e-85bc-0583407489c4",
   "metadata": {},
   "source": [
    "##### Pair Plot"
   ]
  },
  {
   "cell_type": "code",
   "execution_count": 1410,
   "id": "8a90c33d-8857-4402-9909-b28f0b95cc6f",
   "metadata": {},
   "outputs": [
    {
     "data": {
      "image/png": "[encoded data removed]",
      "text/plain": [
       "<Figure size 1931.72x1800 with 110 Axes>"
      ]
     },
     "metadata": {
      "needs_background": "light"
     },
     "output_type": "display_data"
    }
   ],
   "source": [
    "pair_plot=sns.pairplot(Patient[0:5], hue=\"reason_for_admission\")"
   ]
  },
  {
   "cell_type": "code",
   "execution_count": null,
   "id": "64534d09-5067-4c91-9b5f-5aadaa9048e2",
   "metadata": {},
   "outputs": [],
   "source": []
  }
 ],
 "metadata": {
  "kernelspec": {
   "display_name": "Python 3 (ipykernel)",
   "language": "python",
   "name": "python3"
  },
  "language_info": {
   "codemirror_mode": {
    "name": "ipython",
    "version": 3
   },
   "file_extension": ".py",
   "mimetype": "text/x-python",
   "name": "python",
   "nbconvert_exporter": "python",
   "pygments_lexer": "ipython3",
   "version": "3.9.7"
  }
 },
 "nbformat": 4,
 "nbformat_minor": 5
}
